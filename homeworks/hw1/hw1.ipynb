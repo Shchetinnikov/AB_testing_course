{
 "cells": [
  {
   "cell_type": "code",
   "execution_count": 1,
   "metadata": {},
   "outputs": [],
   "source": [
    "# ПОДКЛЮЧЕНИЕ БИБЛИОТЕК\n",
    "import os\n",
    "import requests\n",
    "from tqdm import tqdm\n",
    "import zipfile\n",
    "import datetime\n",
    "import hashlib\n",
    "from base64 import b64encode\n",
    "\n",
    "import collections\n",
    "import numpy as np\n",
    "import pandas as pd\n",
    "import seaborn as sns\n",
    "import matplotlib.pyplot as plt\n",
    "import matplotlib.dates as mdates\n",
    "from sklearn.model_selection import train_test_split\n",
    "from scipy.stats import mannwhitneyu, ttest_ind, kstest, uniform, norm\n",
    "\n",
    "sns.set_theme()\n",
    "\n",
    "seed = 111"
   ]
  },
  {
   "cell_type": "code",
   "execution_count": 2,
   "metadata": {},
   "outputs": [],
   "source": [
    "# ФУНКЦИИ\n",
    "\n",
    "# Отрисовка гистрограммы распределения p-values\n",
    "def plot_pvalues_hist(pvalues):\n",
    "    plt.figure(figsize=(6, 4))\n",
    "    n = int(1 + np.log2(len(pvalues)) // 1)\n",
    "    plt.hist(pvalues, bins=n, color='orange')\n",
    "    plt.show()\n",
    "\n",
    "\n",
    "# Функции для бутстрепа\n",
    "def get_bootstrap_array(arr):\n",
    "    return np.random.choice(arr, replace=True, size=len(arr))\n",
    "\n",
    "\n",
    "def calc_bootstrap_mean(arr, size=1000):\n",
    "    result = np.empty(size)\n",
    "    for i in range(size):\n",
    "        result[i] = np.mean(get_bootstrap_array(arr))\n",
    "    return result\n",
    "\n",
    "def get_p_value(dist):\n",
    "    dist = np.array(dist)\n",
    "    x = (dist > 0).mean()\n",
    "    pvalue = min(x, 1 - x) * 2\n",
    "    return pvalue\n",
    "\n",
    "# Подсчет MDE\n",
    "def get_mde(metric_vec, alpha=0.05, beta=0.2):\n",
    "\n",
    "    metric_mean, metric_std, metric_n = metric_vec.mean(), metric_vec.std(), metric_vec.count()\n",
    "\n",
    "    z_alpha = norm.ppf(1 - (alpha / 2), loc=0, scale=1)\n",
    "    z_beta = norm.ppf(1 - beta, loc=0, scale=1)\n",
    "\n",
    "    mde = (z_alpha + z_beta)*metric_std / np.sqrt(metric_n)\n",
    "\n",
    "    return mde*100/metric_mean"
   ]
  },
  {
   "cell_type": "markdown",
   "metadata": {},
   "source": [
    "# Данные: датасет КИОН\n",
    "- **просмотры** фильмов и сериалов в приложении KION\n",
    "- данные о пользователях\n",
    "- данные об айтемах (фильмы, сериалы и т.д.)"
   ]
  },
  {
   "cell_type": "markdown",
   "metadata": {},
   "source": [
    "##### Загрузка данных"
   ]
  },
  {
   "cell_type": "code",
   "execution_count": null,
   "metadata": {},
   "outputs": [
    {
     "name": "stderr",
     "output_type": "stream",
     "text": [
      "kion dataset download:  56%|█████▌    | 44.0M/78.8M [00:39<00:38, 914kiB/s]"
     ]
    }
   ],
   "source": [
    "# Загрузка датасета по чанкам\n",
    "url = \"https://github.com/sharthZ23/your-second-recsys/raw/master/data_kion.zip\"\n",
    "\n",
    "req = requests.get(url, stream=True)\n",
    "\n",
    "with open('data_kion.zip', \"wb\") as fd:\n",
    "    total_size_in_bytes = int(req.headers.get('Content-Length', 0))\n",
    "    progress_bar = tqdm(desc='kion dataset download', total=total_size_in_bytes, unit='iB', unit_scale=True)\n",
    "    for chunk in req.iter_content(chunk_size=2 ** 20):\n",
    "        progress_bar.update(len(chunk))\n",
    "        fd.write(chunk)"
   ]
  },
  {
   "cell_type": "code",
   "execution_count": 9,
   "metadata": {},
   "outputs": [],
   "source": [
    "# Распаковываем архив из 3 файлов\n",
    "\n",
    "with zipfile.ZipFile('./data/data_kion.zip', 'r') as zip_ref:\n",
    "    zip_ref.extractall('./data')"
   ]
  },
  {
   "cell_type": "code",
   "execution_count": 3,
   "metadata": {},
   "outputs": [],
   "source": [
    "# Чтение данных\n",
    "interactions = pd.read_csv('./data/data_kion/interactions_df.csv')\n",
    "users = pd.read_csv('./data/data_kion/users.csv')\n",
    "items = pd.read_csv('./data/data_kion/items.csv')\n",
    "\n",
    "# Первичные преобразования\n",
    "interactions['last_watch_dt'] = pd.to_datetime(interactions['last_watch_dt']).map(lambda x: x.date())\n",
    "interactions['user_id'] = interactions['user_id'].astype(str)\n",
    "users['user_id'] = users['user_id'].astype(str)"
   ]
  },
  {
   "cell_type": "markdown",
   "metadata": {},
   "source": [
    "#####  Анализ данных"
   ]
  },
  {
   "cell_type": "code",
   "execution_count": 4,
   "metadata": {},
   "outputs": [
    {
     "data": {
      "text/html": [
       "<div>\n",
       "<style scoped>\n",
       "    .dataframe tbody tr th:only-of-type {\n",
       "        vertical-align: middle;\n",
       "    }\n",
       "\n",
       "    .dataframe tbody tr th {\n",
       "        vertical-align: top;\n",
       "    }\n",
       "\n",
       "    .dataframe thead th {\n",
       "        text-align: right;\n",
       "    }\n",
       "</style>\n",
       "<table border=\"1\" class=\"dataframe\">\n",
       "  <thead>\n",
       "    <tr style=\"text-align: right;\">\n",
       "      <th></th>\n",
       "      <th>user_id</th>\n",
       "      <th>item_id</th>\n",
       "      <th>last_watch_dt</th>\n",
       "      <th>total_dur</th>\n",
       "      <th>watched_pct</th>\n",
       "    </tr>\n",
       "  </thead>\n",
       "  <tbody>\n",
       "    <tr>\n",
       "      <th>0</th>\n",
       "      <td>176549</td>\n",
       "      <td>9506</td>\n",
       "      <td>2021-05-11</td>\n",
       "      <td>4250</td>\n",
       "      <td>72.0</td>\n",
       "    </tr>\n",
       "    <tr>\n",
       "      <th>1</th>\n",
       "      <td>699317</td>\n",
       "      <td>1659</td>\n",
       "      <td>2021-05-29</td>\n",
       "      <td>8317</td>\n",
       "      <td>100.0</td>\n",
       "    </tr>\n",
       "    <tr>\n",
       "      <th>2</th>\n",
       "      <td>656683</td>\n",
       "      <td>7107</td>\n",
       "      <td>2021-05-09</td>\n",
       "      <td>10</td>\n",
       "      <td>0.0</td>\n",
       "    </tr>\n",
       "    <tr>\n",
       "      <th>3</th>\n",
       "      <td>864613</td>\n",
       "      <td>7638</td>\n",
       "      <td>2021-07-05</td>\n",
       "      <td>14483</td>\n",
       "      <td>100.0</td>\n",
       "    </tr>\n",
       "    <tr>\n",
       "      <th>4</th>\n",
       "      <td>964868</td>\n",
       "      <td>9506</td>\n",
       "      <td>2021-04-30</td>\n",
       "      <td>6725</td>\n",
       "      <td>100.0</td>\n",
       "    </tr>\n",
       "  </tbody>\n",
       "</table>\n",
       "</div>"
      ],
      "text/plain": [
       "  user_id  item_id last_watch_dt  total_dur  watched_pct\n",
       "0  176549     9506    2021-05-11       4250         72.0\n",
       "1  699317     1659    2021-05-29       8317        100.0\n",
       "2  656683     7107    2021-05-09         10          0.0\n",
       "3  864613     7638    2021-07-05      14483        100.0\n",
       "4  964868     9506    2021-04-30       6725        100.0"
      ]
     },
     "execution_count": 4,
     "metadata": {},
     "output_type": "execute_result"
    }
   ],
   "source": [
    "interactions.head(5)\n",
    "\n",
    "# user_id - уникальный идентификатор пользователя\n",
    "# item_id - уникальный идентификатор контента\n",
    "# last_watch_dt - последняя дата просмотра юзером определенного контента\n",
    "# total_dur - суммарная продолжительность просмотра определенного контента юзером (в секундах)\n",
    "# watched_pct - процент просмотренного контента от общей продолжительности"
   ]
  },
  {
   "cell_type": "code",
   "execution_count": 5,
   "metadata": {},
   "outputs": [
    {
     "data": {
      "text/plain": [
       "(5476251, 5)"
      ]
     },
     "execution_count": 5,
     "metadata": {},
     "output_type": "execute_result"
    }
   ],
   "source": [
    "interactions.shape"
   ]
  },
  {
   "cell_type": "code",
   "execution_count": 6,
   "metadata": {},
   "outputs": [
    {
     "data": {
      "text/html": [
       "<div>\n",
       "<style scoped>\n",
       "    .dataframe tbody tr th:only-of-type {\n",
       "        vertical-align: middle;\n",
       "    }\n",
       "\n",
       "    .dataframe tbody tr th {\n",
       "        vertical-align: top;\n",
       "    }\n",
       "\n",
       "    .dataframe thead th {\n",
       "        text-align: right;\n",
       "    }\n",
       "</style>\n",
       "<table border=\"1\" class=\"dataframe\">\n",
       "  <thead>\n",
       "    <tr style=\"text-align: right;\">\n",
       "      <th></th>\n",
       "      <th>user_id</th>\n",
       "      <th>age</th>\n",
       "      <th>income</th>\n",
       "      <th>sex</th>\n",
       "      <th>kids_flg</th>\n",
       "    </tr>\n",
       "  </thead>\n",
       "  <tbody>\n",
       "    <tr>\n",
       "      <th>0</th>\n",
       "      <td>973171</td>\n",
       "      <td>age_25_34</td>\n",
       "      <td>income_60_90</td>\n",
       "      <td>М</td>\n",
       "      <td>1</td>\n",
       "    </tr>\n",
       "    <tr>\n",
       "      <th>1</th>\n",
       "      <td>962099</td>\n",
       "      <td>age_18_24</td>\n",
       "      <td>income_20_40</td>\n",
       "      <td>М</td>\n",
       "      <td>0</td>\n",
       "    </tr>\n",
       "    <tr>\n",
       "      <th>2</th>\n",
       "      <td>1047345</td>\n",
       "      <td>age_45_54</td>\n",
       "      <td>income_40_60</td>\n",
       "      <td>Ж</td>\n",
       "      <td>0</td>\n",
       "    </tr>\n",
       "    <tr>\n",
       "      <th>3</th>\n",
       "      <td>721985</td>\n",
       "      <td>age_45_54</td>\n",
       "      <td>income_20_40</td>\n",
       "      <td>Ж</td>\n",
       "      <td>0</td>\n",
       "    </tr>\n",
       "    <tr>\n",
       "      <th>4</th>\n",
       "      <td>704055</td>\n",
       "      <td>age_35_44</td>\n",
       "      <td>income_60_90</td>\n",
       "      <td>Ж</td>\n",
       "      <td>0</td>\n",
       "    </tr>\n",
       "  </tbody>\n",
       "</table>\n",
       "</div>"
      ],
      "text/plain": [
       "   user_id        age        income sex  kids_flg\n",
       "0   973171  age_25_34  income_60_90   М         1\n",
       "1   962099  age_18_24  income_20_40   М         0\n",
       "2  1047345  age_45_54  income_40_60   Ж         0\n",
       "3   721985  age_45_54  income_20_40   Ж         0\n",
       "4   704055  age_35_44  income_60_90   Ж         0"
      ]
     },
     "execution_count": 6,
     "metadata": {},
     "output_type": "execute_result"
    }
   ],
   "source": [
    "users.head()\n",
    "\n",
    "# user_id - уникальный идентификатор пользователя\n",
    "# kids_flg = 0 - детей нет, если 1 - дети есть\n",
    "# income - группа, в которую юзер отнесен по доходу\n",
    "# age - группа, в которую юзер отнесен по возрасту\n",
    "# sex - пол"
   ]
  },
  {
   "cell_type": "code",
   "execution_count": 7,
   "metadata": {},
   "outputs": [
    {
     "data": {
      "text/plain": [
       "(840197, 5)"
      ]
     },
     "execution_count": 7,
     "metadata": {},
     "output_type": "execute_result"
    }
   ],
   "source": [
    "users.shape"
   ]
  },
  {
   "cell_type": "code",
   "execution_count": 8,
   "metadata": {},
   "outputs": [
    {
     "data": {
      "text/html": [
       "<div>\n",
       "<style scoped>\n",
       "    .dataframe tbody tr th:only-of-type {\n",
       "        vertical-align: middle;\n",
       "    }\n",
       "\n",
       "    .dataframe tbody tr th {\n",
       "        vertical-align: top;\n",
       "    }\n",
       "\n",
       "    .dataframe thead th {\n",
       "        text-align: right;\n",
       "    }\n",
       "</style>\n",
       "<table border=\"1\" class=\"dataframe\">\n",
       "  <thead>\n",
       "    <tr style=\"text-align: right;\">\n",
       "      <th></th>\n",
       "      <th>item_id</th>\n",
       "      <th>content_type</th>\n",
       "      <th>title</th>\n",
       "      <th>title_orig</th>\n",
       "      <th>release_year</th>\n",
       "      <th>genres</th>\n",
       "      <th>countries</th>\n",
       "      <th>for_kids</th>\n",
       "      <th>age_rating</th>\n",
       "      <th>studios</th>\n",
       "      <th>directors</th>\n",
       "      <th>actors</th>\n",
       "      <th>description</th>\n",
       "      <th>keywords</th>\n",
       "    </tr>\n",
       "  </thead>\n",
       "  <tbody>\n",
       "    <tr>\n",
       "      <th>0</th>\n",
       "      <td>10711</td>\n",
       "      <td>film</td>\n",
       "      <td>Поговори с ней</td>\n",
       "      <td>Hable con ella</td>\n",
       "      <td>2002.0</td>\n",
       "      <td>драмы, зарубежные, детективы, мелодрамы</td>\n",
       "      <td>Испания</td>\n",
       "      <td>NaN</td>\n",
       "      <td>16.0</td>\n",
       "      <td>NaN</td>\n",
       "      <td>Педро Альмодовар</td>\n",
       "      <td>Адольфо Фернандес, Ана Фернандес, Дарио Гранди...</td>\n",
       "      <td>Мелодрама легендарного Педро Альмодовара «Пого...</td>\n",
       "      <td>Поговори, ней, 2002, Испания, друзья, любовь, ...</td>\n",
       "    </tr>\n",
       "    <tr>\n",
       "      <th>1</th>\n",
       "      <td>2508</td>\n",
       "      <td>film</td>\n",
       "      <td>Голые перцы</td>\n",
       "      <td>Search Party</td>\n",
       "      <td>2014.0</td>\n",
       "      <td>зарубежные, приключения, комедии</td>\n",
       "      <td>США</td>\n",
       "      <td>NaN</td>\n",
       "      <td>16.0</td>\n",
       "      <td>NaN</td>\n",
       "      <td>Скот Армстронг</td>\n",
       "      <td>Адам Палли, Брайан Хаски, Дж.Б. Смув, Джейсон ...</td>\n",
       "      <td>Уморительная современная комедия на популярную...</td>\n",
       "      <td>Голые, перцы, 2014, США, друзья, свадьбы, прео...</td>\n",
       "    </tr>\n",
       "    <tr>\n",
       "      <th>2</th>\n",
       "      <td>10716</td>\n",
       "      <td>film</td>\n",
       "      <td>Тактическая сила</td>\n",
       "      <td>Tactical Force</td>\n",
       "      <td>2011.0</td>\n",
       "      <td>криминал, зарубежные, триллеры, боевики, комедии</td>\n",
       "      <td>Канада</td>\n",
       "      <td>NaN</td>\n",
       "      <td>16.0</td>\n",
       "      <td>NaN</td>\n",
       "      <td>Адам П. Калтраро</td>\n",
       "      <td>Адриан Холмс, Даррен Шалави, Джерри Вассерман,...</td>\n",
       "      <td>Профессиональный рестлер Стив Остин («Все или ...</td>\n",
       "      <td>Тактическая, сила, 2011, Канада, бандиты, ганг...</td>\n",
       "    </tr>\n",
       "    <tr>\n",
       "      <th>3</th>\n",
       "      <td>7868</td>\n",
       "      <td>film</td>\n",
       "      <td>45 лет</td>\n",
       "      <td>45 Years</td>\n",
       "      <td>2015.0</td>\n",
       "      <td>драмы, зарубежные, мелодрамы</td>\n",
       "      <td>Великобритания</td>\n",
       "      <td>NaN</td>\n",
       "      <td>16.0</td>\n",
       "      <td>NaN</td>\n",
       "      <td>Эндрю Хэй</td>\n",
       "      <td>Александра Риддлстон-Барретт, Джеральдин Джейм...</td>\n",
       "      <td>Шарлотта Рэмплинг, Том Кортни, Джеральдин Джей...</td>\n",
       "      <td>45, лет, 2015, Великобритания, брак, жизнь, лю...</td>\n",
       "    </tr>\n",
       "    <tr>\n",
       "      <th>4</th>\n",
       "      <td>16268</td>\n",
       "      <td>film</td>\n",
       "      <td>Все решает мгновение</td>\n",
       "      <td>NaN</td>\n",
       "      <td>1978.0</td>\n",
       "      <td>драмы, спорт, советские, мелодрамы</td>\n",
       "      <td>СССР</td>\n",
       "      <td>NaN</td>\n",
       "      <td>12.0</td>\n",
       "      <td>Ленфильм</td>\n",
       "      <td>Виктор Садовский</td>\n",
       "      <td>Александр Абдулов, Александр Демьяненко, Алекс...</td>\n",
       "      <td>Расчетливая чаровница из советского кинохита «...</td>\n",
       "      <td>Все, решает, мгновение, 1978, СССР, сильные, ж...</td>\n",
       "    </tr>\n",
       "  </tbody>\n",
       "</table>\n",
       "</div>"
      ],
      "text/plain": [
       "   item_id content_type                 title      title_orig  release_year  \\\n",
       "0    10711         film        Поговори с ней  Hable con ella        2002.0   \n",
       "1     2508         film           Голые перцы    Search Party        2014.0   \n",
       "2    10716         film      Тактическая сила  Tactical Force        2011.0   \n",
       "3     7868         film                45 лет        45 Years        2015.0   \n",
       "4    16268         film  Все решает мгновение             NaN        1978.0   \n",
       "\n",
       "                                             genres       countries  for_kids  \\\n",
       "0           драмы, зарубежные, детективы, мелодрамы         Испания       NaN   \n",
       "1                  зарубежные, приключения, комедии             США       NaN   \n",
       "2  криминал, зарубежные, триллеры, боевики, комедии          Канада       NaN   \n",
       "3                      драмы, зарубежные, мелодрамы  Великобритания       NaN   \n",
       "4                драмы, спорт, советские, мелодрамы            СССР       NaN   \n",
       "\n",
       "   age_rating   studios         directors  \\\n",
       "0        16.0       NaN  Педро Альмодовар   \n",
       "1        16.0       NaN    Скот Армстронг   \n",
       "2        16.0       NaN  Адам П. Калтраро   \n",
       "3        16.0       NaN         Эндрю Хэй   \n",
       "4        12.0  Ленфильм  Виктор Садовский   \n",
       "\n",
       "                                              actors  \\\n",
       "0  Адольфо Фернандес, Ана Фернандес, Дарио Гранди...   \n",
       "1  Адам Палли, Брайан Хаски, Дж.Б. Смув, Джейсон ...   \n",
       "2  Адриан Холмс, Даррен Шалави, Джерри Вассерман,...   \n",
       "3  Александра Риддлстон-Барретт, Джеральдин Джейм...   \n",
       "4  Александр Абдулов, Александр Демьяненко, Алекс...   \n",
       "\n",
       "                                         description  \\\n",
       "0  Мелодрама легендарного Педро Альмодовара «Пого...   \n",
       "1  Уморительная современная комедия на популярную...   \n",
       "2  Профессиональный рестлер Стив Остин («Все или ...   \n",
       "3  Шарлотта Рэмплинг, Том Кортни, Джеральдин Джей...   \n",
       "4  Расчетливая чаровница из советского кинохита «...   \n",
       "\n",
       "                                            keywords  \n",
       "0  Поговори, ней, 2002, Испания, друзья, любовь, ...  \n",
       "1  Голые, перцы, 2014, США, друзья, свадьбы, прео...  \n",
       "2  Тактическая, сила, 2011, Канада, бандиты, ганг...  \n",
       "3  45, лет, 2015, Великобритания, брак, жизнь, лю...  \n",
       "4  Все, решает, мгновение, 1978, СССР, сильные, ж...  "
      ]
     },
     "execution_count": 8,
     "metadata": {},
     "output_type": "execute_result"
    }
   ],
   "source": [
    "items.head(5)"
   ]
  },
  {
   "cell_type": "code",
   "execution_count": 9,
   "metadata": {},
   "outputs": [
    {
     "data": {
      "text/plain": [
       "(15963, 14)"
      ]
     },
     "execution_count": 9,
     "metadata": {},
     "output_type": "execute_result"
    }
   ],
   "source": [
    "items.shape"
   ]
  },
  {
   "cell_type": "markdown",
   "metadata": {},
   "source": [
    "📝 Замечание \\\n",
    "В данных присутствует ошибка. Количество уникальных айтемов и юзеров в таблице interactions не может быть больше количества уникальных айтемов и юзеров в таблицах items и users соответственно. Однако видно, что в таблице interactions это условие для юзеров нарушается."
   ]
  },
  {
   "cell_type": "code",
   "execution_count": 10,
   "metadata": {},
   "outputs": [
    {
     "name": "stdout",
     "output_type": "stream",
     "text": [
      "Всего уникальных юзеров: 840_197\n",
      "Всего уникальных айтемов: 15_963\n",
      "Уникальных юзеров в interactions: 962_179\n",
      "Уникальных айтемов в interactions: 15_706\n"
     ]
    }
   ],
   "source": [
    "print(f\"Всего уникальных юзеров: {users['user_id'].nunique():_}\")\n",
    "print(f\"Всего уникальных айтемов: {items['item_id'].nunique():_}\")\n",
    "print(f\"Уникальных юзеров в interactions: {interactions['user_id'].nunique():_}\")\n",
    "print(f\"Уникальных айтемов в interactions: {interactions['item_id'].nunique():_}\")"
   ]
  },
  {
   "cell_type": "markdown",
   "metadata": {},
   "source": [
    "# Подготовка к дизайн A/B"
   ]
  },
  {
   "attachments": {
    "image.png": {
     "image/png": "[encoded data removed]"
    }
   },
   "cell_type": "markdown",
   "metadata": {},
   "source": [
    "![image.png](attachment:image.png)\n",
    "\n",
    "В этой работе следующий пайплайн:\n",
    "- Выбор метрики и преобразования + эффект\n",
    "- Выбор данных + препроцессинг + разбиение\n",
    "- Выбор критерия\n",
    "- Оценка корректности: посчитать корректность и сравнить с результатами за 1 неделю\n",
    "- Оценка мощности: добавить эффект в 1%, 3% и 5% и сравните полученную мощность\n",
    "- Оценка MDE"
   ]
  },
  {
   "cell_type": "markdown",
   "metadata": {},
   "source": [
    "##### Выбор метрики"
   ]
  },
  {
   "cell_type": "markdown",
   "metadata": {},
   "source": [
    "Хотим использовать метрику длину просмотра на пользователя (total_dur в датасете) - так как это основная метрика, на которую смотрит бизнес. Поэтому сакцентируем внимание на данных взаимодействий (interactions) и метрике TVTu.\n",
    "\n",
    "\n",
    "**Преобразование Бокса-Кокса** \n",
    "\n",
    "В реальности часто приходится иметь дело со статистическими данными, которые по тем или иным причинам не проходят тест на нормальность. В этой ситуации есть два выхода:\n",
    "<ul>\n",
    "    <li>обратиться к непараметрическим методам</li>\n",
    "    <li>воспользоваться специальными методами, позволяющими преобразовать исходную «ненормальную статистику» в «нормальную»</li>\n",
    "</ul>\n",
    "Среди множества таких методов преобразований одним из лучших (при неизвестном типе распределения) считается преобразование Бокса-Кокса."
   ]
  },
  {
   "cell_type": "markdown",
   "metadata": {},
   "source": [
    "##### Выбор эффекта "
   ]
  },
  {
   "cell_type": "markdown",
   "metadata": {},
   "source": [
    "В рассматриваемых дизайнах будет рассматриваться эффект в 1%, 3% и 5% как разница между группами."
   ]
  },
  {
   "cell_type": "markdown",
   "metadata": {},
   "source": [
    "##### Выбор данных"
   ]
  },
  {
   "cell_type": "markdown",
   "metadata": {},
   "source": [
    "Для дизайна теста и самого A/B-теста могут оказаться важными следующие моменты:\n",
    "- Продолжительность теста: определяет кол-во данных, а также гарантирует возможность обнаружить эффект\n",
    "- Рандомные или стратифицированные выборки: на дизайне и тесте формируемые две выборки должны обладать примерно одинаковой энтропией."
   ]
  },
  {
   "cell_type": "markdown",
   "metadata": {},
   "source": [
    "📝 Период данных \\\n",
    "Данные получены с 13 марта по 22 августа (меньше года)"
   ]
  },
  {
   "cell_type": "code",
   "execution_count": 11,
   "metadata": {},
   "outputs": [
    {
     "name": "stdout",
     "output_type": "stream",
     "text": [
      "2021-03-13 2021-08-22\n"
     ]
    }
   ],
   "source": [
    "# Оценка, за какой период получены данные\n",
    "max_date = interactions['last_watch_dt'].max()\n",
    "min_date = interactions['last_watch_dt'].min()\n",
    "print(min_date, max_date)"
   ]
  },
  {
   "cell_type": "markdown",
   "metadata": {},
   "source": [
    "📝 Визуализация метрики за весь период \\\n",
    "По графику видно увеличение метрики в летний период. Это связано с временем каникул или отпусков."
   ]
  },
  {
   "cell_type": "code",
   "execution_count": 12,
   "metadata": {},
   "outputs": [
    {
     "name": "stderr",
     "output_type": "stream",
     "text": [
      "C:\\Users\\kshch\\AppData\\Local\\Temp\\ipykernel_12268\\3330461411.py:2: FutureWarning: The provided callable <built-in function sum> is currently using SeriesGroupBy.sum. In a future version of pandas, the provided callable will be used directly. To keep current behavior pass the string \"sum\" instead.\n",
      "  ax = interactions.groupby('last_watch_dt').agg({'total_dur': sum}).plot(rot=90, x_compat=True, figsize=(10 ,7))\n"
     ]
    },
    {
     "data": {
      "image/png": "[encoded data removed]",
      "text/plain": [
       "<Figure size 1000x700 with 1 Axes>"
      ]
     },
     "metadata": {},
     "output_type": "display_data"
    }
   ],
   "source": [
    "# Визуализация зависимости метрики от времени\n",
    "ax = interactions.groupby('last_watch_dt').agg({'total_dur': sum}).plot(rot=90, x_compat=True, figsize=(10 ,7))\n",
    "ax.xaxis.set_major_locator(mdates.WeekdayLocator())"
   ]
  },
  {
   "cell_type": "markdown",
   "metadata": {},
   "source": [
    "Рассмотрим последний месяц, когда метрика стабилизируется\n",
    "\n",
    "📝 Визуализация метрики за последний месяц \\\n",
    "Присутствует недельная сезонность. Сезонность позволяет ограничить длительность теста."
   ]
  },
  {
   "cell_type": "code",
   "execution_count": 13,
   "metadata": {},
   "outputs": [
    {
     "name": "stderr",
     "output_type": "stream",
     "text": [
      "C:\\Users\\kshch\\AppData\\Local\\Temp\\ipykernel_12268\\1790104849.py:3: FutureWarning: The provided callable <built-in function sum> is currently using SeriesGroupBy.sum. In a future version of pandas, the provided callable will be used directly. To keep current behavior pass the string \"sum\" instead.\n",
      "  ax = interactions_month.groupby('last_watch_dt').agg({'total_dur': sum}).plot(rot=90, x_compat=True, figsize=(10 ,7))\n"
     ]
    },
    {
     "data": {
      "image/png": "[encoded data removed]",
      "text/plain": [
       "<Figure size 1000x700 with 1 Axes>"
      ]
     },
     "metadata": {},
     "output_type": "display_data"
    }
   ],
   "source": [
    "# Выделим данные за последний месяц\n",
    "interactions_month = interactions[interactions['last_watch_dt'] >= max_date - datetime.timedelta(days=31)]\n",
    "ax = interactions_month.groupby('last_watch_dt').agg({'total_dur': sum}).plot(rot=90, x_compat=True, figsize=(10 ,7))\n",
    "ax.xaxis.set_major_locator(mdates.WeekdayLocator())"
   ]
  },
  {
   "cell_type": "markdown",
   "metadata": {},
   "source": [
    "Для A/B-теста оставим 2 последние недели (2021-08-09 по 2021-08-22):"
   ]
  },
  {
   "cell_type": "code",
   "execution_count": 14,
   "metadata": {},
   "outputs": [],
   "source": [
    "# Выделим данные за две последние недели\n",
    "interactions_2week = interactions[interactions['last_watch_dt'] >= max_date - datetime.timedelta(days=13)]"
   ]
  },
  {
   "cell_type": "code",
   "execution_count": 15,
   "metadata": {},
   "outputs": [
    {
     "data": {
      "text/html": [
       "<div>\n",
       "<style scoped>\n",
       "    .dataframe tbody tr th:only-of-type {\n",
       "        vertical-align: middle;\n",
       "    }\n",
       "\n",
       "    .dataframe tbody tr th {\n",
       "        vertical-align: top;\n",
       "    }\n",
       "\n",
       "    .dataframe thead th {\n",
       "        text-align: right;\n",
       "    }\n",
       "</style>\n",
       "<table border=\"1\" class=\"dataframe\">\n",
       "  <thead>\n",
       "    <tr style=\"text-align: right;\">\n",
       "      <th></th>\n",
       "      <th>user_id</th>\n",
       "      <th>item_id</th>\n",
       "      <th>last_watch_dt</th>\n",
       "      <th>total_dur</th>\n",
       "      <th>watched_pct</th>\n",
       "    </tr>\n",
       "  </thead>\n",
       "  <tbody>\n",
       "    <tr>\n",
       "      <th>6</th>\n",
       "      <td>1016458</td>\n",
       "      <td>354</td>\n",
       "      <td>2021-08-14</td>\n",
       "      <td>1672</td>\n",
       "      <td>25.0</td>\n",
       "    </tr>\n",
       "    <tr>\n",
       "      <th>9</th>\n",
       "      <td>203219</td>\n",
       "      <td>13582</td>\n",
       "      <td>2021-08-22</td>\n",
       "      <td>6975</td>\n",
       "      <td>100.0</td>\n",
       "    </tr>\n",
       "    <tr>\n",
       "      <th>22</th>\n",
       "      <td>505244</td>\n",
       "      <td>15297</td>\n",
       "      <td>2021-08-15</td>\n",
       "      <td>15991</td>\n",
       "      <td>63.0</td>\n",
       "    </tr>\n",
       "    <tr>\n",
       "      <th>24</th>\n",
       "      <td>916352</td>\n",
       "      <td>12846</td>\n",
       "      <td>2021-08-12</td>\n",
       "      <td>1812</td>\n",
       "      <td>30.0</td>\n",
       "    </tr>\n",
       "    <tr>\n",
       "      <th>30</th>\n",
       "      <td>1057871</td>\n",
       "      <td>6208</td>\n",
       "      <td>2021-08-12</td>\n",
       "      <td>5033</td>\n",
       "      <td>95.0</td>\n",
       "    </tr>\n",
       "  </tbody>\n",
       "</table>\n",
       "</div>"
      ],
      "text/plain": [
       "    user_id  item_id last_watch_dt  total_dur  watched_pct\n",
       "6   1016458      354    2021-08-14       1672         25.0\n",
       "9    203219    13582    2021-08-22       6975        100.0\n",
       "22   505244    15297    2021-08-15      15991         63.0\n",
       "24   916352    12846    2021-08-12       1812         30.0\n",
       "30  1057871     6208    2021-08-12       5033         95.0"
      ]
     },
     "execution_count": 15,
     "metadata": {},
     "output_type": "execute_result"
    }
   ],
   "source": [
    "interactions_2week.head()"
   ]
  },
  {
   "cell_type": "code",
   "execution_count": 16,
   "metadata": {},
   "outputs": [
    {
     "data": {
      "text/plain": [
       "(827089, 5)"
      ]
     },
     "execution_count": 16,
     "metadata": {},
     "output_type": "execute_result"
    }
   ],
   "source": [
    "interactions_2week.shape"
   ]
  },
  {
   "cell_type": "code",
   "execution_count": 17,
   "metadata": {},
   "outputs": [
    {
     "name": "stdout",
     "output_type": "stream",
     "text": [
      "2021-08-09\n",
      "2021-08-22\n"
     ]
    }
   ],
   "source": [
    "# Оценка, за какой период получены данные\n",
    "print(interactions_2week['last_watch_dt'].min())\n",
    "print(interactions_2week['last_watch_dt'].max())"
   ]
  },
  {
   "cell_type": "markdown",
   "metadata": {},
   "source": [
    "За этот период провзаимодействовало с сервисом в 3-4 раза меньше уникальных пользователей, чем за весь период."
   ]
  },
  {
   "cell_type": "code",
   "execution_count": 18,
   "metadata": {},
   "outputs": [
    {
     "data": {
      "text/plain": [
       "266081"
      ]
     },
     "execution_count": 18,
     "metadata": {},
     "output_type": "execute_result"
    }
   ],
   "source": [
    "interactions_2week['user_id'].nunique()"
   ]
  },
  {
   "cell_type": "code",
   "execution_count": 19,
   "metadata": {},
   "outputs": [
    {
     "name": "stderr",
     "output_type": "stream",
     "text": [
      "C:\\Users\\kshch\\AppData\\Local\\Temp\\ipykernel_12268\\1753409888.py:2: FutureWarning: The provided callable <built-in function sum> is currently using SeriesGroupBy.sum. In a future version of pandas, the provided callable will be used directly. To keep current behavior pass the string \"sum\" instead.\n",
      "  users_total_dur = interactions_2week.groupby('user_id', as_index=False).agg({'total_dur': sum})\n"
     ]
    },
    {
     "data": {
      "text/html": [
       "<div>\n",
       "<style scoped>\n",
       "    .dataframe tbody tr th:only-of-type {\n",
       "        vertical-align: middle;\n",
       "    }\n",
       "\n",
       "    .dataframe tbody tr th {\n",
       "        vertical-align: top;\n",
       "    }\n",
       "\n",
       "    .dataframe thead th {\n",
       "        text-align: right;\n",
       "    }\n",
       "</style>\n",
       "<table border=\"1\" class=\"dataframe\">\n",
       "  <thead>\n",
       "    <tr style=\"text-align: right;\">\n",
       "      <th></th>\n",
       "      <th>user_id</th>\n",
       "      <th>total_dur</th>\n",
       "    </tr>\n",
       "  </thead>\n",
       "  <tbody>\n",
       "    <tr>\n",
       "      <th>0</th>\n",
       "      <td>1</td>\n",
       "      <td>21172</td>\n",
       "    </tr>\n",
       "    <tr>\n",
       "      <th>1</th>\n",
       "      <td>1000</td>\n",
       "      <td>10744</td>\n",
       "    </tr>\n",
       "    <tr>\n",
       "      <th>2</th>\n",
       "      <td>1000000</td>\n",
       "      <td>32990</td>\n",
       "    </tr>\n",
       "    <tr>\n",
       "      <th>3</th>\n",
       "      <td>1000001</td>\n",
       "      <td>52</td>\n",
       "    </tr>\n",
       "    <tr>\n",
       "      <th>4</th>\n",
       "      <td>1000003</td>\n",
       "      <td>625</td>\n",
       "    </tr>\n",
       "  </tbody>\n",
       "</table>\n",
       "</div>"
      ],
      "text/plain": [
       "   user_id  total_dur\n",
       "0        1      21172\n",
       "1     1000      10744\n",
       "2  1000000      32990\n",
       "3  1000001         52\n",
       "4  1000003        625"
      ]
     },
     "execution_count": 19,
     "metadata": {},
     "output_type": "execute_result"
    }
   ],
   "source": [
    "# Значение метрик за выбранный период\n",
    "users_total_dur = interactions_2week.groupby('user_id', as_index=False).agg({'total_dur': sum})\n",
    "users_total_dur.head()\n"
   ]
  },
  {
   "cell_type": "markdown",
   "metadata": {},
   "source": [
    "##### Предобработка и анализ данных"
   ]
  },
  {
   "cell_type": "markdown",
   "metadata": {},
   "source": [
    "📝 Удаление выбросов \\\n",
    "Удалим выбросы методом межквартильного расстояния"
   ]
  },
  {
   "cell_type": "code",
   "execution_count": 20,
   "metadata": {},
   "outputs": [
    {
     "data": {
      "text/plain": [
       "<Axes: >"
      ]
     },
     "execution_count": 20,
     "metadata": {},
     "output_type": "execute_result"
    },
    {
     "data": {
      "image/png": "[encoded data removed]",
      "text/plain": [
       "<Figure size 640x480 with 1 Axes>"
      ]
     },
     "metadata": {},
     "output_type": "display_data"
    }
   ],
   "source": [
    "sns.boxplot(users_total_dur['total_dur'].values, fliersize=3)"
   ]
  },
  {
   "cell_type": "code",
   "execution_count": 21,
   "metadata": {},
   "outputs": [],
   "source": [
    "# Определение границ для метода межквартильного расстояния\n",
    "x25 = users_total_dur['total_dur'].quantile(q=0.25)\n",
    "x75 = users_total_dur['total_dur'].quantile(q=0.75)\n",
    "left = x25 - 1.5 * (x75 - x25)\n",
    "right = x75 + 1.5 * (x75 - x25)"
   ]
  },
  {
   "cell_type": "code",
   "execution_count": 22,
   "metadata": {},
   "outputs": [
    {
     "name": "stdout",
     "output_type": "stream",
     "text": [
      "(266081, 2)\n",
      "(237706, 2)\n"
     ]
    }
   ],
   "source": [
    "# Удаление выбросов\n",
    "print(users_total_dur.shape)\n",
    "users_total_dur = users_total_dur[(users_total_dur['total_dur'] >= left) & ((users_total_dur['total_dur'] <= right))]\n",
    "print(users_total_dur.shape)"
   ]
  },
  {
   "cell_type": "code",
   "execution_count": 23,
   "metadata": {},
   "outputs": [
    {
     "data": {
      "text/plain": [
       "<Axes: >"
      ]
     },
     "execution_count": 23,
     "metadata": {},
     "output_type": "execute_result"
    },
    {
     "data": {
      "image/png": "[encoded data removed]",
      "text/plain": [
       "<Figure size 640x480 with 1 Axes>"
      ]
     },
     "metadata": {},
     "output_type": "display_data"
    }
   ],
   "source": [
    "sns.boxplot(users_total_dur['total_dur'].values, fliersize=3)"
   ]
  },
  {
   "cell_type": "markdown",
   "metadata": {},
   "source": [
    "📝 Визуализация распределения\n",
    "<p>Используем правило Стёрджеса для определения кол-во интервалов. Распределение ненормальное. Значит, что самые популярные критерии (t-test, z-test) для нашей метрики \"длина просмотра\" не подойдут, так как они требуют условия на нормальность распределения.</p> \n",
    "<p>\n",
    "Хотя t-test и z-test предполагает нормальное распределение данных, они также являются достаточно робастными к отклонениям от нормальности, особенно при больших размерах выборок. Если наши выборки действительно большие, то центральная предельная теорема может помочь сделать распределение выборочных средних более нормальным, что позволяет использовать t-test и z-test.<p>"
   ]
  },
  {
   "cell_type": "code",
   "execution_count": 114,
   "metadata": {},
   "outputs": [
    {
     "data": {
      "text/plain": [
       "<Axes: >"
      ]
     },
     "execution_count": 114,
     "metadata": {},
     "output_type": "execute_result"
    },
    {
     "data": {
      "image/png": "[encoded data removed]",
      "text/plain": [
       "<Figure size 1000x700 with 1 Axes>"
      ]
     },
     "metadata": {},
     "output_type": "display_data"
    }
   ],
   "source": [
    "n = int(1 + np.log2(users_total_dur['total_dur'].shape[0]) // 1)\n",
    "users_total_dur['total_dur'].hist(bins=n, figsize=(10 ,7))"
   ]
  },
  {
   "cell_type": "markdown",
   "metadata": {},
   "source": [
    "##### Разбиение на группы"
   ]
  },
  {
   "cell_type": "markdown",
   "metadata": {},
   "source": [
    "Возможные способы:\n",
    "- рандомное разбиение (при большой выборке)\n",
    "- стратифицированное разбиение (при малых выборках)"
   ]
  },
  {
   "cell_type": "markdown",
   "metadata": {},
   "source": [
    "📝 Рандомное разбиение \\\n",
    "Размер таблицы users_total_dur >> 1000, что позволяет разбить данные на группы рандомным образом. \n",
    "Рандомное разбиение можно реализовать двумя способами:\n",
    "<ul>\n",
    "    <li>Соль + хеширование: позволяет воспроизвести разбиение</li>\n",
    "    <li>Разбиение с перемешиванием: невозможно воспроизвести</li>\n",
    "</ul>\n",
    "Оценим визуально распределения формируемых выборок"
   ]
  },
  {
   "cell_type": "markdown",
   "metadata": {},
   "source": [
    "* Соль + хеширование"
   ]
  },
  {
   "cell_type": "code",
   "execution_count": 71,
   "metadata": {},
   "outputs": [],
   "source": [
    "# Генерация соли\n",
    "def salt_generator(salt=None):\n",
    "    # os.urandom() method is used to generate a string of size random bytes suitable for cryptographic use\n",
    "    # or we can say this method generates a string containing random characters.\n",
    "    salt = os.urandom(8)\n",
    "\n",
    "    # b64encode - кодирует байтоподобный объект с помощью Base64 и возвращает закодированную байтовую строку.\n",
    "    return b64encode(salt).decode('ascii')\n",
    "\n",
    "\n",
    "# Делим на 2 равные группы\n",
    "def groups_splitter(df, columns, user_salt=None):\n",
    "    df = df.copy()\n",
    "    if user_salt == None:\n",
    "        salt = salt_generator()\n",
    "    else:\n",
    "        salt = user_salt\n",
    "\n",
    "    df['hash'] = (df['user_id'].astype(str) + '#' + salt) \\\n",
    "                               .apply(lambda x: hashlib.sha256(x.encode('utf-8')).hexdigest())\n",
    "\n",
    "    df['group'] = ((df['hash'].str.slice(start=-6).apply(int, base=16) % 2) \\\n",
    "                              .map(lambda x: 'A' if x == 0 else 'B'))\n",
    "\n",
    "    return df[columns].drop_duplicates()\n",
    "    "
   ]
  },
  {
   "cell_type": "code",
   "execution_count": 135,
   "metadata": {},
   "outputs": [
    {
     "data": {
      "text/html": [
       "<div>\n",
       "<style scoped>\n",
       "    .dataframe tbody tr th:only-of-type {\n",
       "        vertical-align: middle;\n",
       "    }\n",
       "\n",
       "    .dataframe tbody tr th {\n",
       "        vertical-align: top;\n",
       "    }\n",
       "\n",
       "    .dataframe thead th {\n",
       "        text-align: right;\n",
       "    }\n",
       "</style>\n",
       "<table border=\"1\" class=\"dataframe\">\n",
       "  <thead>\n",
       "    <tr style=\"text-align: right;\">\n",
       "      <th></th>\n",
       "      <th>user_id</th>\n",
       "      <th>total_dur</th>\n",
       "      <th>group</th>\n",
       "    </tr>\n",
       "  </thead>\n",
       "  <tbody>\n",
       "    <tr>\n",
       "      <th>0</th>\n",
       "      <td>1</td>\n",
       "      <td>21172</td>\n",
       "      <td>B</td>\n",
       "    </tr>\n",
       "    <tr>\n",
       "      <th>1</th>\n",
       "      <td>1000</td>\n",
       "      <td>10744</td>\n",
       "      <td>A</td>\n",
       "    </tr>\n",
       "    <tr>\n",
       "      <th>2</th>\n",
       "      <td>1000000</td>\n",
       "      <td>32990</td>\n",
       "      <td>B</td>\n",
       "    </tr>\n",
       "    <tr>\n",
       "      <th>3</th>\n",
       "      <td>1000001</td>\n",
       "      <td>52</td>\n",
       "      <td>A</td>\n",
       "    </tr>\n",
       "    <tr>\n",
       "      <th>4</th>\n",
       "      <td>1000003</td>\n",
       "      <td>625</td>\n",
       "      <td>A</td>\n",
       "    </tr>\n",
       "  </tbody>\n",
       "</table>\n",
       "</div>"
      ],
      "text/plain": [
       "   user_id  total_dur group\n",
       "0        1      21172     B\n",
       "1     1000      10744     A\n",
       "2  1000000      32990     B\n",
       "3  1000001         52     A\n",
       "4  1000003        625     A"
      ]
     },
     "execution_count": 135,
     "metadata": {},
     "output_type": "execute_result"
    }
   ],
   "source": [
    "users_total_dur_group = groups_splitter(users_total_dur, \n",
    "                                        columns=['user_id', 'total_dur', 'group'])\n",
    "users_total_dur_group.head()"
   ]
  },
  {
   "cell_type": "code",
   "execution_count": 136,
   "metadata": {},
   "outputs": [
    {
     "data": {
      "text/html": [
       "<div>\n",
       "<style scoped>\n",
       "    .dataframe tbody tr th:only-of-type {\n",
       "        vertical-align: middle;\n",
       "    }\n",
       "\n",
       "    .dataframe tbody tr th {\n",
       "        vertical-align: top;\n",
       "    }\n",
       "\n",
       "    .dataframe thead th {\n",
       "        text-align: right;\n",
       "    }\n",
       "</style>\n",
       "<table border=\"1\" class=\"dataframe\">\n",
       "  <thead>\n",
       "    <tr style=\"text-align: right;\">\n",
       "      <th></th>\n",
       "      <th>group</th>\n",
       "      <th>user_id</th>\n",
       "      <th>total_dur</th>\n",
       "    </tr>\n",
       "  </thead>\n",
       "  <tbody>\n",
       "    <tr>\n",
       "      <th>0</th>\n",
       "      <td>A</td>\n",
       "      <td>118685</td>\n",
       "      <td>118685</td>\n",
       "    </tr>\n",
       "    <tr>\n",
       "      <th>1</th>\n",
       "      <td>B</td>\n",
       "      <td>119021</td>\n",
       "      <td>119021</td>\n",
       "    </tr>\n",
       "  </tbody>\n",
       "</table>\n",
       "</div>"
      ],
      "text/plain": [
       "  group  user_id  total_dur\n",
       "0     A   118685     118685\n",
       "1     B   119021     119021"
      ]
     },
     "execution_count": 136,
     "metadata": {},
     "output_type": "execute_result"
    }
   ],
   "source": [
    "users_total_dur_group.groupby(by='group', as_index=False).count()"
   ]
  },
  {
   "cell_type": "code",
   "execution_count": 137,
   "metadata": {},
   "outputs": [
    {
     "data": {
      "text/plain": [
       "array([[<Axes: title={'center': 'total_dur'}>]], dtype=object)"
      ]
     },
     "execution_count": 137,
     "metadata": {},
     "output_type": "execute_result"
    },
    {
     "data": {
      "image/png": "[encoded data removed]",
      "text/plain": [
       "<Figure size 1000x500 with 1 Axes>"
      ]
     },
     "metadata": {},
     "output_type": "display_data"
    }
   ],
   "source": [
    "group_A = users_total_dur_group[users_total_dur_group.group == 'A']\n",
    "n = int(1 + np.log2(group_A['total_dur'].shape[0]) // 1)\n",
    "group_A.hist(bins=n, figsize=(10 ,5))"
   ]
  },
  {
   "cell_type": "code",
   "execution_count": 138,
   "metadata": {},
   "outputs": [
    {
     "data": {
      "text/plain": [
       "array([[<Axes: title={'center': 'total_dur'}>]], dtype=object)"
      ]
     },
     "execution_count": 138,
     "metadata": {},
     "output_type": "execute_result"
    },
    {
     "data": {
      "image/png": "[encoded data removed]",
      "text/plain": [
       "<Figure size 1000x500 with 1 Axes>"
      ]
     },
     "metadata": {},
     "output_type": "display_data"
    }
   ],
   "source": [
    "group_B = users_total_dur_group[users_total_dur_group.group == 'B']\n",
    "n = int(1 + np.log2(group_B['total_dur'].shape[0]) // 1)\n",
    "group_B.hist(bins=n, figsize=(10 ,5))"
   ]
  },
  {
   "cell_type": "markdown",
   "metadata": {},
   "source": [
    "* Разбиение с перемешиванием"
   ]
  },
  {
   "cell_type": "code",
   "execution_count": 139,
   "metadata": {},
   "outputs": [],
   "source": [
    "group_A, group_B = train_test_split(users_total_dur, test_size=0.5, shuffle=True)\n",
    "group_A['group'] = 'A'\n",
    "group_B['group'] = 'B'"
   ]
  },
  {
   "cell_type": "code",
   "execution_count": 140,
   "metadata": {},
   "outputs": [
    {
     "data": {
      "text/html": [
       "<div>\n",
       "<style scoped>\n",
       "    .dataframe tbody tr th:only-of-type {\n",
       "        vertical-align: middle;\n",
       "    }\n",
       "\n",
       "    .dataframe tbody tr th {\n",
       "        vertical-align: top;\n",
       "    }\n",
       "\n",
       "    .dataframe thead th {\n",
       "        text-align: right;\n",
       "    }\n",
       "</style>\n",
       "<table border=\"1\" class=\"dataframe\">\n",
       "  <thead>\n",
       "    <tr style=\"text-align: right;\">\n",
       "      <th></th>\n",
       "      <th>group</th>\n",
       "      <th>user_id</th>\n",
       "      <th>total_dur</th>\n",
       "    </tr>\n",
       "  </thead>\n",
       "  <tbody>\n",
       "    <tr>\n",
       "      <th>0</th>\n",
       "      <td>A</td>\n",
       "      <td>118853</td>\n",
       "      <td>118853</td>\n",
       "    </tr>\n",
       "    <tr>\n",
       "      <th>1</th>\n",
       "      <td>B</td>\n",
       "      <td>118853</td>\n",
       "      <td>118853</td>\n",
       "    </tr>\n",
       "  </tbody>\n",
       "</table>\n",
       "</div>"
      ],
      "text/plain": [
       "  group  user_id  total_dur\n",
       "0     A   118853     118853\n",
       "1     B   118853     118853"
      ]
     },
     "execution_count": 140,
     "metadata": {},
     "output_type": "execute_result"
    }
   ],
   "source": [
    "pd.concat([group_A, group_B]).groupby(by='group', as_index=False).count()"
   ]
  },
  {
   "cell_type": "code",
   "execution_count": 141,
   "metadata": {},
   "outputs": [
    {
     "data": {
      "text/plain": [
       "array([[<Axes: title={'center': 'total_dur'}>]], dtype=object)"
      ]
     },
     "execution_count": 141,
     "metadata": {},
     "output_type": "execute_result"
    },
    {
     "data": {
      "image/png": "[encoded data removed]",
      "text/plain": [
       "<Figure size 1000x500 with 1 Axes>"
      ]
     },
     "metadata": {},
     "output_type": "display_data"
    }
   ],
   "source": [
    "n = int(1 + np.log2(group_A['total_dur'].shape[0]) // 1)\n",
    "group_A.hist(bins=n, figsize=(10 ,5))"
   ]
  },
  {
   "cell_type": "code",
   "execution_count": 142,
   "metadata": {},
   "outputs": [
    {
     "data": {
      "text/plain": [
       "array([[<Axes: title={'center': 'total_dur'}>]], dtype=object)"
      ]
     },
     "execution_count": 142,
     "metadata": {},
     "output_type": "execute_result"
    },
    {
     "data": {
      "image/png": "[encoded data removed]",
      "text/plain": [
       "<Figure size 1000x500 with 1 Axes>"
      ]
     },
     "metadata": {},
     "output_type": "display_data"
    }
   ],
   "source": [
    "n = int(1 + np.log2(group_B['total_dur'].shape[0]) // 1)\n",
    "group_B.hist(bins=n, figsize=(10 ,5))"
   ]
  },
  {
   "cell_type": "markdown",
   "metadata": {},
   "source": [
    "📝 Оценим скорость исполнения \\\n",
    "Оценим скорость исполнения каждого метода разбиения на группы. Из эксперимента видно, что метод соль + хеширование занимает больше времени, чем разбиение с перемешиванием. У нас нет проблемы воспроизводимости данные (нет необходимости или можно сохранять логи), поэтому в следующих экспериментах будет использоваться второй метод."
   ]
  },
  {
   "cell_type": "code",
   "execution_count": 143,
   "metadata": {},
   "outputs": [
    {
     "name": "stdout",
     "output_type": "stream",
     "text": [
      "CPU times: total: 46.9 ms\n",
      "Wall time: 447 ms\n"
     ]
    }
   ],
   "source": [
    "%%time\n",
    "_ = groups_splitter(users_total_dur,\n",
    "                    columns=['user_id', 'total_dur', 'group'])"
   ]
  },
  {
   "cell_type": "code",
   "execution_count": 144,
   "metadata": {},
   "outputs": [
    {
     "name": "stdout",
     "output_type": "stream",
     "text": [
      "CPU times: total: 31.2 ms\n",
      "Wall time: 27.2 ms\n"
     ]
    }
   ],
   "source": [
    "%%time\n",
    "_ = train_test_split(users_total_dur, \n",
    "                     test_size=0.5, \n",
    "                     shuffle=True)"
   ]
  },
  {
   "cell_type": "markdown",
   "metadata": {},
   "source": [
    "📝 Стратифицированное разбиение\n",
    "<p>Опыт показывает, что применение стратификации к большим выборкам, вместо рандомного разбиения, не дает большого прироста в качестве A/B-тестирования.</p>\n",
    "<p>Можно было бы в этом убедиться визуально по графикам. Однако, как упоминалось ранее, в данных присутствует ошибка. При попытке смержить таблицу users с таблицей users_total_dur размер итоговой таблицы меньше размера таблицы users_total_dur. В общем случае теряем 50к данных пользователей.</p>\n",
    "<p>То есть, если бы не теряли в данных и применяли стратификацию для разбиения на группы, можно было бы ожидать более качественное разбиение. В нашем случае визуальный анализ теряей всякий смысл.</p>"
   ]
  },
  {
   "cell_type": "code",
   "execution_count": 145,
   "metadata": {},
   "outputs": [
    {
     "data": {
      "text/html": [
       "<div>\n",
       "<style scoped>\n",
       "    .dataframe tbody tr th:only-of-type {\n",
       "        vertical-align: middle;\n",
       "    }\n",
       "\n",
       "    .dataframe tbody tr th {\n",
       "        vertical-align: top;\n",
       "    }\n",
       "\n",
       "    .dataframe thead th {\n",
       "        text-align: right;\n",
       "    }\n",
       "</style>\n",
       "<table border=\"1\" class=\"dataframe\">\n",
       "  <thead>\n",
       "    <tr style=\"text-align: right;\">\n",
       "      <th></th>\n",
       "      <th>user_id</th>\n",
       "      <th>total_dur</th>\n",
       "    </tr>\n",
       "  </thead>\n",
       "  <tbody>\n",
       "    <tr>\n",
       "      <th>0</th>\n",
       "      <td>1</td>\n",
       "      <td>21172</td>\n",
       "    </tr>\n",
       "    <tr>\n",
       "      <th>1</th>\n",
       "      <td>1000</td>\n",
       "      <td>10744</td>\n",
       "    </tr>\n",
       "    <tr>\n",
       "      <th>2</th>\n",
       "      <td>1000000</td>\n",
       "      <td>32990</td>\n",
       "    </tr>\n",
       "    <tr>\n",
       "      <th>3</th>\n",
       "      <td>1000001</td>\n",
       "      <td>52</td>\n",
       "    </tr>\n",
       "    <tr>\n",
       "      <th>4</th>\n",
       "      <td>1000003</td>\n",
       "      <td>625</td>\n",
       "    </tr>\n",
       "    <tr>\n",
       "      <th>...</th>\n",
       "      <td>...</td>\n",
       "      <td>...</td>\n",
       "    </tr>\n",
       "    <tr>\n",
       "      <th>266076</th>\n",
       "      <td>999978</td>\n",
       "      <td>11172</td>\n",
       "    </tr>\n",
       "    <tr>\n",
       "      <th>266077</th>\n",
       "      <td>999987</td>\n",
       "      <td>27888</td>\n",
       "    </tr>\n",
       "    <tr>\n",
       "      <th>266078</th>\n",
       "      <td>999989</td>\n",
       "      <td>4563</td>\n",
       "    </tr>\n",
       "    <tr>\n",
       "      <th>266079</th>\n",
       "      <td>999990</td>\n",
       "      <td>997</td>\n",
       "    </tr>\n",
       "    <tr>\n",
       "      <th>266080</th>\n",
       "      <td>999993</td>\n",
       "      <td>17228</td>\n",
       "    </tr>\n",
       "  </tbody>\n",
       "</table>\n",
       "<p>237706 rows × 2 columns</p>\n",
       "</div>"
      ],
      "text/plain": [
       "        user_id  total_dur\n",
       "0             1      21172\n",
       "1          1000      10744\n",
       "2       1000000      32990\n",
       "3       1000001         52\n",
       "4       1000003        625\n",
       "...         ...        ...\n",
       "266076   999978      11172\n",
       "266077   999987      27888\n",
       "266078   999989       4563\n",
       "266079   999990        997\n",
       "266080   999993      17228\n",
       "\n",
       "[237706 rows x 2 columns]"
      ]
     },
     "execution_count": 145,
     "metadata": {},
     "output_type": "execute_result"
    }
   ],
   "source": [
    "users_total_dur"
   ]
  },
  {
   "cell_type": "code",
   "execution_count": 146,
   "metadata": {},
   "outputs": [
    {
     "data": {
      "text/html": [
       "<div>\n",
       "<style scoped>\n",
       "    .dataframe tbody tr th:only-of-type {\n",
       "        vertical-align: middle;\n",
       "    }\n",
       "\n",
       "    .dataframe tbody tr th {\n",
       "        vertical-align: top;\n",
       "    }\n",
       "\n",
       "    .dataframe thead th {\n",
       "        text-align: right;\n",
       "    }\n",
       "</style>\n",
       "<table border=\"1\" class=\"dataframe\">\n",
       "  <thead>\n",
       "    <tr style=\"text-align: right;\">\n",
       "      <th></th>\n",
       "      <th>user_id</th>\n",
       "      <th>total_dur</th>\n",
       "      <th>age</th>\n",
       "      <th>income</th>\n",
       "      <th>sex</th>\n",
       "      <th>kids_flg</th>\n",
       "    </tr>\n",
       "  </thead>\n",
       "  <tbody>\n",
       "    <tr>\n",
       "      <th>0</th>\n",
       "      <td>1</td>\n",
       "      <td>21172</td>\n",
       "      <td>age_25_34</td>\n",
       "      <td>income_20_40</td>\n",
       "      <td>Ж</td>\n",
       "      <td>1</td>\n",
       "    </tr>\n",
       "    <tr>\n",
       "      <th>1</th>\n",
       "      <td>1000</td>\n",
       "      <td>10744</td>\n",
       "      <td>age_45_54</td>\n",
       "      <td>income_20_40</td>\n",
       "      <td>М</td>\n",
       "      <td>0</td>\n",
       "    </tr>\n",
       "    <tr>\n",
       "      <th>2</th>\n",
       "      <td>1000001</td>\n",
       "      <td>52</td>\n",
       "      <td>age_45_54</td>\n",
       "      <td>income_20_40</td>\n",
       "      <td>Ж</td>\n",
       "      <td>0</td>\n",
       "    </tr>\n",
       "    <tr>\n",
       "      <th>3</th>\n",
       "      <td>1000008</td>\n",
       "      <td>3691</td>\n",
       "      <td>age_25_34</td>\n",
       "      <td>income_40_60</td>\n",
       "      <td>Ж</td>\n",
       "      <td>1</td>\n",
       "    </tr>\n",
       "    <tr>\n",
       "      <th>4</th>\n",
       "      <td>1000013</td>\n",
       "      <td>2430</td>\n",
       "      <td>age_35_44</td>\n",
       "      <td>income_40_60</td>\n",
       "      <td>Ж</td>\n",
       "      <td>0</td>\n",
       "    </tr>\n",
       "    <tr>\n",
       "      <th>...</th>\n",
       "      <td>...</td>\n",
       "      <td>...</td>\n",
       "      <td>...</td>\n",
       "      <td>...</td>\n",
       "      <td>...</td>\n",
       "      <td>...</td>\n",
       "    </tr>\n",
       "    <tr>\n",
       "      <th>187088</th>\n",
       "      <td>99997</td>\n",
       "      <td>30672</td>\n",
       "      <td>age_35_44</td>\n",
       "      <td>income_40_60</td>\n",
       "      <td>Ж</td>\n",
       "      <td>0</td>\n",
       "    </tr>\n",
       "    <tr>\n",
       "      <th>187089</th>\n",
       "      <td>999977</td>\n",
       "      <td>4570</td>\n",
       "      <td>age_35_44</td>\n",
       "      <td>income_20_40</td>\n",
       "      <td>Ж</td>\n",
       "      <td>1</td>\n",
       "    </tr>\n",
       "    <tr>\n",
       "      <th>187090</th>\n",
       "      <td>999978</td>\n",
       "      <td>11172</td>\n",
       "      <td>age_18_24</td>\n",
       "      <td>income_20_40</td>\n",
       "      <td>Ж</td>\n",
       "      <td>0</td>\n",
       "    </tr>\n",
       "    <tr>\n",
       "      <th>187091</th>\n",
       "      <td>999987</td>\n",
       "      <td>27888</td>\n",
       "      <td>age_35_44</td>\n",
       "      <td>income_20_40</td>\n",
       "      <td>М</td>\n",
       "      <td>0</td>\n",
       "    </tr>\n",
       "    <tr>\n",
       "      <th>187092</th>\n",
       "      <td>999989</td>\n",
       "      <td>4563</td>\n",
       "      <td>age_25_34</td>\n",
       "      <td>income_20_40</td>\n",
       "      <td>Ж</td>\n",
       "      <td>1</td>\n",
       "    </tr>\n",
       "  </tbody>\n",
       "</table>\n",
       "<p>187093 rows × 6 columns</p>\n",
       "</div>"
      ],
      "text/plain": [
       "        user_id  total_dur        age        income sex  kids_flg\n",
       "0             1      21172  age_25_34  income_20_40   Ж         1\n",
       "1          1000      10744  age_45_54  income_20_40   М         0\n",
       "2       1000001         52  age_45_54  income_20_40   Ж         0\n",
       "3       1000008       3691  age_25_34  income_40_60   Ж         1\n",
       "4       1000013       2430  age_35_44  income_40_60   Ж         0\n",
       "...         ...        ...        ...           ...  ..       ...\n",
       "187088    99997      30672  age_35_44  income_40_60   Ж         0\n",
       "187089   999977       4570  age_35_44  income_20_40   Ж         1\n",
       "187090   999978      11172  age_18_24  income_20_40   Ж         0\n",
       "187091   999987      27888  age_35_44  income_20_40   М         0\n",
       "187092   999989       4563  age_25_34  income_20_40   Ж         1\n",
       "\n",
       "[187093 rows x 6 columns]"
      ]
     },
     "execution_count": 146,
     "metadata": {},
     "output_type": "execute_result"
    }
   ],
   "source": [
    "users_total_dur.merge(users, how='inner', on=['user_id'])"
   ]
  },
  {
   "cell_type": "markdown",
   "metadata": {},
   "source": [
    "##### Выбор критерия"
   ]
  },
  {
   "cell_type": "markdown",
   "metadata": {},
   "source": [
    "Возможные критерии:\n",
    "- параметрические критерии\n",
    "    - Z-test для разности средних\n",
    "    - T-test для разности средних\n",
    "    - Хи-квадрат для разности дисперсий\n",
    "    - F-критерий для отношения дисперсий\n",
    "- непараметрические критерии\n",
    "    - U-критерий Манна-Уитни\n",
    "    - Критерий Колмогорова-Смирнова\n",
    "- бутстреп"
   ]
  },
  {
   "cell_type": "markdown",
   "metadata": {},
   "source": [
    "Метрика нами определена ранее - это TVTu.\n",
    "\n",
    "Далее рассмотрим следующие сочитания метрика + критерий:\n",
    "- TVTu + бутстреп\n",
    "- логарифмированная TVTu + бутстреп\n",
    "- TVTu + манна-уитни\n",
    "- логарифмированная TVTu + манна-уитни\n",
    "- TVTu + t-test\n",
    "- логарифмированная TVTu + t-test"
   ]
  },
  {
   "cell_type": "markdown",
   "metadata": {},
   "source": [
    "# Дизайн A/B: TVTu + бутстреп"
   ]
  },
  {
   "cell_type": "markdown",
   "metadata": {},
   "source": [
    "##### A/A-тест"
   ]
  },
  {
   "cell_type": "markdown",
   "metadata": {},
   "source": [
    "Корректность:"
   ]
  },
  {
   "cell_type": "code",
   "execution_count": 147,
   "metadata": {},
   "outputs": [
    {
     "name": "stderr",
     "output_type": "stream",
     "text": [
      "100%|██████████| 1000/1000 [06:46<00:00,  2.46it/s]"
     ]
    },
    {
     "name": "stdout",
     "output_type": "stream",
     "text": [
      "Корректность: 0.933\n"
     ]
    },
    {
     "name": "stderr",
     "output_type": "stream",
     "text": [
      "\n"
     ]
    }
   ],
   "source": [
    "correctness = []\n",
    "values = []\n",
    "\n",
    "for i in tqdm(range(1000)):\n",
    "    group_A, group_B = train_test_split(users_total_dur, \n",
    "                                        test_size=0.5, \n",
    "                                        shuffle=True)\n",
    "    #bootstrap\n",
    "    sample_a_mean = calc_bootstrap_mean(group_A['total_dur'], size=250)\n",
    "    sample_b_mean = calc_bootstrap_mean(group_B['total_dur'], size=250)\n",
    "    values.append(sample_a_mean - sample_b_mean)\n",
    "\n",
    "    left_side, right_side = np.percentile(sample_a_mean - sample_b_mean,\n",
    "                                                  [100 * 0.05 / 2., 100 * (1 - 0.05 / 2.)]) # считаем 95% доверительный интервал для разницы средних\n",
    "\n",
    "    correctness.append(not left_side <= 0 <= right_side)\n",
    "    test_correctness = collections.Counter(correctness)\n",
    "\n",
    "print(f'Корректность: {1 - test_correctness[1]/(test_correctness[1] + test_correctness[0])}')"
   ]
  },
  {
   "cell_type": "markdown",
   "metadata": {},
   "source": [
    "Оценка равномерности распределения p-value:"
   ]
  },
  {
   "cell_type": "code",
   "execution_count": 148,
   "metadata": {},
   "outputs": [],
   "source": [
    "pvalues = [get_p_value(dist) for dist in values]"
   ]
  },
  {
   "cell_type": "code",
   "execution_count": 149,
   "metadata": {},
   "outputs": [
    {
     "name": "stdout",
     "output_type": "stream",
     "text": [
      "p_value = 0.04811098765192623 - p_values неравномерное распределение\n"
     ]
    }
   ],
   "source": [
    "stat, p_value = kstest(pvalues, uniform(loc=0.0, scale=1.0).cdf)\n",
    "\n",
    "if p_value < 0.05:\n",
    "    print(f'p_value = {p_value} - p_values неравномерное распределение')\n",
    "else:\n",
    "    print(f'p_value = {p_value} - p_values равномерное распределение')"
   ]
  },
  {
   "cell_type": "code",
   "execution_count": 150,
   "metadata": {},
   "outputs": [
    {
     "data": {
      "image/png": "[encoded data removed]",
      "text/plain": [
       "<Figure size 600x400 with 1 Axes>"
      ]
     },
     "metadata": {},
     "output_type": "display_data"
    }
   ],
   "source": [
    "plot_pvalues_hist(pvalues)"
   ]
  },
  {
   "cell_type": "markdown",
   "metadata": {},
   "source": [
    "##### A/B-тест"
   ]
  },
  {
   "cell_type": "code",
   "execution_count": 151,
   "metadata": {},
   "outputs": [
    {
     "name": "stderr",
     "output_type": "stream",
     "text": [
      "100%|██████████| 1000/1000 [06:35<00:00,  2.53it/s]"
     ]
    },
    {
     "name": "stdout",
     "output_type": "stream",
     "text": [
      "Мощность: 0.527\n"
     ]
    },
    {
     "name": "stderr",
     "output_type": "stream",
     "text": [
      "\n"
     ]
    }
   ],
   "source": [
    "# Эффект 1%\n",
    "\n",
    "power = []\n",
    "values = []\n",
    "\n",
    "for i in tqdm(range(1000)):\n",
    "    group_A, group_B = train_test_split(users_total_dur, \n",
    "                                        test_size=0.5, \n",
    "                                        shuffle=True)\n",
    "\n",
    "    group_B['total_dur_1_eff'] = group_B['total_dur'] * (1 + 0.01)\n",
    "\n",
    "    #bootstrap 1%\n",
    "    sample_a_mean = calc_bootstrap_mean(group_A['total_dur'], size=250)\n",
    "    sample_b_mean = calc_bootstrap_mean(group_B['total_dur_1_eff'], size=250)\n",
    "    values.append(sample_a_mean - sample_b_mean)\n",
    "\n",
    "    left_side, right_side = np.percentile(sample_a_mean - sample_b_mean,\n",
    "                                          [100 * 0.05 / 2., 100 * (1 - 0.05 / 2.)]) # считаем 95% доверительный интервал для разницы средних\n",
    "\n",
    "    power.append(not left_side <= 0 <= right_side)\n",
    "\n",
    "    test_power = collections.Counter(power)\n",
    "\n",
    "print(f'Мощность: {test_power[1]/(test_power[1] + test_power[0])}')"
   ]
  },
  {
   "cell_type": "code",
   "execution_count": 152,
   "metadata": {},
   "outputs": [
    {
     "name": "stderr",
     "output_type": "stream",
     "text": [
      "100%|██████████| 1000/1000 [06:32<00:00,  2.55it/s]"
     ]
    },
    {
     "name": "stdout",
     "output_type": "stream",
     "text": [
      "Мощность: 1.0\n"
     ]
    },
    {
     "name": "stderr",
     "output_type": "stream",
     "text": [
      "\n"
     ]
    }
   ],
   "source": [
    "# Эффект 3%\n",
    "\n",
    "power = []\n",
    "values = []\n",
    "\n",
    "for i in tqdm(range(1000)):\n",
    "    group_A, group_B = train_test_split(users_total_dur, \n",
    "                                        test_size=0.5, \n",
    "                                        shuffle=True)\n",
    "\n",
    "    group_B['total_dur_3_eff'] = group_B['total_dur'] * (1 + 0.03)\n",
    "\n",
    "    #bootstrap 3%\n",
    "    sample_a_mean = calc_bootstrap_mean(group_A['total_dur'], size=250)\n",
    "    sample_b_mean = calc_bootstrap_mean(group_B['total_dur_3_eff'], size=250)\n",
    "    values.append(sample_a_mean - sample_b_mean)\n",
    "\n",
    "    left_side, right_side = np.percentile(sample_a_mean - sample_b_mean,\n",
    "                                          [100 * 0.05 / 2., 100 * (1 - 0.05 / 2.)]) # считаем 95% доверительный интервал для разницы средних\n",
    "\n",
    "    power.append(not left_side <= 0 <= right_side)\n",
    "\n",
    "    test_power = collections.Counter(power)\n",
    "\n",
    "print(f'Мощность: {test_power[1]/(test_power[1] + test_power[0])}')"
   ]
  },
  {
   "cell_type": "code",
   "execution_count": 24,
   "metadata": {},
   "outputs": [
    {
     "name": "stderr",
     "output_type": "stream",
     "text": [
      "100%|██████████| 1000/1000 [07:26<00:00,  2.24it/s]"
     ]
    },
    {
     "name": "stdout",
     "output_type": "stream",
     "text": [
      "Мощность: 1.0\n"
     ]
    },
    {
     "name": "stderr",
     "output_type": "stream",
     "text": [
      "\n"
     ]
    }
   ],
   "source": [
    "# Эффект 5%\n",
    "\n",
    "power = []\n",
    "values = []\n",
    "\n",
    "for i in tqdm(range(1000)):\n",
    "    group_A, group_B = train_test_split(users_total_dur, \n",
    "                                        test_size=0.5, \n",
    "                                        shuffle=True)\n",
    "\n",
    "    group_B['total_dur_5_eff'] = group_B['total_dur'] * (1 + 0.05)\n",
    "\n",
    "    #bootstrap 5%\n",
    "    sample_a_mean = calc_bootstrap_mean(group_A['total_dur'], size=250)\n",
    "    sample_b_mean = calc_bootstrap_mean(group_B['total_dur_5_eff'], size=250)\n",
    "    values.append(sample_a_mean - sample_b_mean)\n",
    "\n",
    "    left_side, right_side = np.percentile(sample_a_mean - sample_b_mean,\n",
    "                                          [100 * 0.05 / 2., 100 * (1 - 0.05 / 2.)]) # считаем 95% доверительный интервал для разницы средних\n",
    "\n",
    "    power.append(not left_side <= 0 <= right_side)\n",
    "\n",
    "    test_power = collections.Counter(power)\n",
    "\n",
    "print(f'Мощность: {test_power[1]/(test_power[1] + test_power[0])}')"
   ]
  },
  {
   "cell_type": "markdown",
   "metadata": {},
   "source": [
    "**Вывод:**\n",
    "1. A/A тест: Высокая корректность (0.933) и равномерное распределение p-values указывают на то, что тест работает правильно и не имеет систематических ошибок. Это хороший знак, подтверждающий надежность метода. \\\n",
    "    На семинаре была получена корректность (0.98), что незначительно больше полученного результата.\n",
    "\n",
    "2. A/B тест:\n",
    "\n",
    "   • Мощность 0.527 для 1% эффекта говорит о том, что вероятность обнаружения такого небольшого эффекта низка, что может быть проблемой, если необходимо выявить минимальные изменения.\n",
    "\n",
    "   • Мощность 1.0 для 3% и 5% эффектов показывает, что тест способен эффективно обнаруживать более значительные изменения.\n",
    "\n",
    "**Итог:** \\\n",
    "Возможно стоит увеличить размеры подвыборок в бутстреп, чтобы получить точные (несмещенные) оценки мат.ожидания. Также можно рассмотреть увеличение размера выборки или изменение дизайна эксперимента для улучшения чувствительности к меньшим эффектам."
   ]
  },
  {
   "cell_type": "markdown",
   "metadata": {},
   "source": [
    "# Дизайн A/B: лог.TVTu + бутстреп"
   ]
  },
  {
   "cell_type": "code",
   "execution_count": 154,
   "metadata": {},
   "outputs": [],
   "source": [
    "users_total_dur['total_dur_ln'] = np.log2(users_total_dur['total_dur'])"
   ]
  },
  {
   "cell_type": "markdown",
   "metadata": {},
   "source": [
    "##### A/A-тест"
   ]
  },
  {
   "cell_type": "markdown",
   "metadata": {},
   "source": [
    "Корректность:"
   ]
  },
  {
   "cell_type": "code",
   "execution_count": 155,
   "metadata": {},
   "outputs": [
    {
     "name": "stderr",
     "output_type": "stream",
     "text": [
      "100%|██████████| 1000/1000 [06:24<00:00,  2.60it/s]"
     ]
    },
    {
     "name": "stdout",
     "output_type": "stream",
     "text": [
      "Корректность: 0.951\n"
     ]
    },
    {
     "name": "stderr",
     "output_type": "stream",
     "text": [
      "\n"
     ]
    }
   ],
   "source": [
    "correctness = []\n",
    "values = []\n",
    "\n",
    "for i in tqdm(range(1000)):\n",
    "    group_A, group_B = train_test_split(users_total_dur, \n",
    "                                        test_size=0.5, \n",
    "                                        shuffle=True)\n",
    "    #bootstrap\n",
    "    sample_a_mean = calc_bootstrap_mean(group_A['total_dur_ln'], size=250)\n",
    "    sample_b_mean = calc_bootstrap_mean(group_B['total_dur_ln'], size=250)\n",
    "    values.append(sample_a_mean - sample_b_mean)\n",
    "\n",
    "    left_side, right_side = np.percentile(sample_a_mean - sample_b_mean,\n",
    "                                          [100 * 0.05 / 2., 100 * (1 - 0.05 / 2.)]) # считаем 95% доверительный интервал для разницы средних\n",
    "\n",
    "    correctness.append(not left_side <= 0 <= right_side)\n",
    "    test_correctness = collections.Counter(correctness)\n",
    "\n",
    "print(f'Корректность: {1 - test_correctness[1]/(test_correctness[1] + test_correctness[0])}')"
   ]
  },
  {
   "cell_type": "markdown",
   "metadata": {},
   "source": [
    "Оценка равномерности распределения p-value:"
   ]
  },
  {
   "cell_type": "code",
   "execution_count": 156,
   "metadata": {},
   "outputs": [],
   "source": [
    "pvalues = [get_p_value(dist) for dist in values]"
   ]
  },
  {
   "cell_type": "code",
   "execution_count": 157,
   "metadata": {},
   "outputs": [
    {
     "name": "stdout",
     "output_type": "stream",
     "text": [
      "p_value = 0.28580600094044617 - p_values равномерное распределение\n"
     ]
    }
   ],
   "source": [
    "stat, p_value = kstest(pvalues, uniform(loc=0.0, scale=1.0).cdf)\n",
    "\n",
    "if p_value < 0.05:\n",
    "    print(f'p_value = {p_value} - p_values неравномерное распределение')\n",
    "else:\n",
    "    print(f'p_value = {p_value} - p_values равномерное распределение')"
   ]
  },
  {
   "cell_type": "code",
   "execution_count": 158,
   "metadata": {},
   "outputs": [
    {
     "data": {
      "image/png": "[encoded data removed]",
      "text/plain": [
       "<Figure size 600x400 with 1 Axes>"
      ]
     },
     "metadata": {},
     "output_type": "display_data"
    }
   ],
   "source": [
    "plot_pvalues_hist(pvalues)"
   ]
  },
  {
   "cell_type": "markdown",
   "metadata": {},
   "source": [
    "##### A/B-тест"
   ]
  },
  {
   "cell_type": "code",
   "execution_count": 159,
   "metadata": {},
   "outputs": [
    {
     "name": "stderr",
     "output_type": "stream",
     "text": [
      "100%|██████████| 1000/1000 [06:29<00:00,  2.57it/s]"
     ]
    },
    {
     "name": "stdout",
     "output_type": "stream",
     "text": [
      "Мощность: 0.185\n"
     ]
    },
    {
     "name": "stderr",
     "output_type": "stream",
     "text": [
      "\n"
     ]
    }
   ],
   "source": [
    "# Эффект 1%\n",
    "\n",
    "power = []\n",
    "values = []\n",
    "\n",
    "for i in tqdm(range(1000)):\n",
    "    group_A, group_B = train_test_split(users_total_dur, \n",
    "                                        test_size=0.5, \n",
    "                                        shuffle=True)\n",
    "\n",
    "    group_B['total_dur_ln_1_eff'] = np.log2(group_B['total_dur'] * (1 + 0.01))\n",
    "\n",
    "    #bootstrap 1%\n",
    "    sample_a_mean = calc_bootstrap_mean(group_A['total_dur_ln'], size=250)\n",
    "    sample_b_mean = calc_bootstrap_mean(group_B['total_dur_ln_1_eff'], size=250)\n",
    "    values.append(sample_a_mean - sample_b_mean)\n",
    "\n",
    "    left_side, right_side = np.percentile(sample_a_mean - sample_b_mean,\n",
    "                                          [100 * 0.05 / 2., 100 * (1 - 0.05 / 2.)]) # считаем 95% доверительный интервал для разницы средних\n",
    "\n",
    "    power.append(not left_side <= 0 <= right_side)\n",
    "\n",
    "    test_power = collections.Counter(power)\n",
    "\n",
    "print(f'Мощность: {test_power[1]/(test_power[1] + test_power[0])}')\n"
   ]
  },
  {
   "cell_type": "code",
   "execution_count": 160,
   "metadata": {},
   "outputs": [
    {
     "name": "stderr",
     "output_type": "stream",
     "text": [
      "100%|██████████| 1000/1000 [06:28<00:00,  2.58it/s]"
     ]
    },
    {
     "name": "stdout",
     "output_type": "stream",
     "text": [
      "Мощность: 0.876\n"
     ]
    },
    {
     "name": "stderr",
     "output_type": "stream",
     "text": [
      "\n"
     ]
    }
   ],
   "source": [
    "# Эффект 3%\n",
    "\n",
    "power = []\n",
    "values = []\n",
    "\n",
    "for i in tqdm(range(1000)):\n",
    "    group_A, group_B = train_test_split(users_total_dur, \n",
    "                                        test_size=0.5, \n",
    "                                        shuffle=True)\n",
    "\n",
    "    group_B['total_dur_ln_3_eff'] = np.log2(group_B['total_dur'] * (1 + 0.03))\n",
    "\n",
    "    #bootstrap 3%\n",
    "    sample_a_mean = calc_bootstrap_mean(group_A['total_dur_ln'], size=250)\n",
    "    sample_b_mean = calc_bootstrap_mean(group_B['total_dur_ln_3_eff'], size=250)\n",
    "    values.append(sample_a_mean - sample_b_mean)\n",
    "\n",
    "    left_side, right_side = np.percentile(sample_a_mean - sample_b_mean,\n",
    "                                          [100 * 0.05 / 2., 100 * (1 - 0.05 / 2.)]) # считаем 95% доверительный интервал для разницы средних\n",
    "\n",
    "    power.append(not left_side <= 0 <= right_side)\n",
    "\n",
    "    test_power = collections.Counter(power)\n",
    "\n",
    "print(f'Мощность: {test_power[1]/(test_power[1] + test_power[0])}')"
   ]
  },
  {
   "cell_type": "code",
   "execution_count": 161,
   "metadata": {},
   "outputs": [
    {
     "name": "stderr",
     "output_type": "stream",
     "text": [
      "100%|██████████| 1000/1000 [06:29<00:00,  2.57it/s]"
     ]
    },
    {
     "name": "stdout",
     "output_type": "stream",
     "text": [
      "Мощность: 0.998\n"
     ]
    },
    {
     "name": "stderr",
     "output_type": "stream",
     "text": [
      "\n"
     ]
    }
   ],
   "source": [
    "# Эффект 5%\n",
    "\n",
    "power = []\n",
    "values = []\n",
    "\n",
    "for i in tqdm(range(1000)):\n",
    "    group_A, group_B = train_test_split(users_total_dur, \n",
    "                                        test_size=0.5, \n",
    "                                        shuffle=True)\n",
    "\n",
    "    group_B['total_dur_ln_5_eff'] = np.log2(group_B['total_dur'] * (1 + 0.05))\n",
    "\n",
    "    #bootstrap 5%\n",
    "    sample_a_mean = calc_bootstrap_mean(group_A['total_dur_ln'], size=250)\n",
    "    sample_b_mean = calc_bootstrap_mean(group_B['total_dur_ln_5_eff'], size=250)\n",
    "    values.append(sample_a_mean - sample_b_mean)\n",
    "\n",
    "    left_side, right_side = np.percentile(sample_a_mean - sample_b_mean,\n",
    "                                          [100 * 0.05 / 2., 100 * (1 - 0.05 / 2.)]) # считаем 95% доверительный интервал для разницы средних\n",
    "\n",
    "    power.append(not left_side <= 0 <= right_side)\n",
    "\n",
    "    test_power = collections.Counter(power)\n",
    "\n",
    "print(f'Мощность: {test_power[1]/(test_power[1] + test_power[0])}')"
   ]
  },
  {
   "cell_type": "markdown",
   "metadata": {},
   "source": [
    "**Вывод:**\n",
    "1. A/A тест:\n",
    "\n",
    "   • Корректность 0.951 указывает на то, что тест имеет высокую вероятность правильно идентифицировать отсутствие эффекта, что говорит о хорошей настройке и надежности теста.\n",
    "\n",
    "   • Равномерное распределение p-values свидетельствует о том, что нет систематических ошибок в тестировании.\n",
    "\n",
    "2. A/B тест:\n",
    "   • Мощность теста при 1% эффекта (0.185) достаточно низкая, что означает, что тест с большой вероятностью не сможет обнаружить такой малый эффект.\n",
    "\n",
    "   • Мощность при 3% (0.876) уже значительно выше, что говорит о том, что тест сможет обнаружить этот эффект с высокой вероятностью.\n",
    "\n",
    "   • Мощность при 5% (0.998) практически максимальна, что указывает на то, что тест с высокой уверенностью сможет выявить такой эффект.\n",
    "\n",
    "**Итог:**\\\n",
    "Логарифмирование метрики, хотя и улучшает корректность A/A теста, снижает мощность A/B теста для обнаружения малых эффектов (1%). Возможно стоит увеличить размеры подвыборок в бутстреп, чтобы получить точные (несмещенные) оценки мат.ожидания.\n"
   ]
  },
  {
   "cell_type": "markdown",
   "metadata": {},
   "source": [
    "# Дизайн A/B: TVTu + манна-уитни"
   ]
  },
  {
   "cell_type": "markdown",
   "metadata": {},
   "source": [
    "##### A/A-тест"
   ]
  },
  {
   "cell_type": "markdown",
   "metadata": {},
   "source": [
    "Корректность:"
   ]
  },
  {
   "cell_type": "code",
   "execution_count": 162,
   "metadata": {},
   "outputs": [
    {
     "name": "stderr",
     "output_type": "stream",
     "text": [
      "100%|██████████| 1000/1000 [00:37<00:00, 26.78it/s]"
     ]
    },
    {
     "name": "stdout",
     "output_type": "stream",
     "text": [
      "Корректность = 0.946\n"
     ]
    },
    {
     "name": "stderr",
     "output_type": "stream",
     "text": [
      "\n"
     ]
    }
   ],
   "source": [
    "pvalues = []\n",
    "for i in tqdm(range(1000)):\n",
    "  group_A, group_B = train_test_split(users_total_dur, \n",
    "                                      test_size=0.5, \n",
    "                                      shuffle=True)\n",
    "  u, p = mannwhitneyu(\n",
    "        group_A['total_dur'].values,\n",
    "        group_B['total_dur'].values\n",
    "    )\n",
    "  pvalues.append(p)\n",
    "\n",
    "pvalues = np.array(pvalues)\n",
    "print(f\"Корректность = {1 - pvalues[pvalues < 0.05].shape[0] / pvalues.shape[0]:.3f}\")"
   ]
  },
  {
   "cell_type": "markdown",
   "metadata": {},
   "source": [
    "Оценка равномерности распределения p-value:"
   ]
  },
  {
   "cell_type": "code",
   "execution_count": 163,
   "metadata": {},
   "outputs": [
    {
     "name": "stdout",
     "output_type": "stream",
     "text": [
      "p_value = 0.9089904277834007 - p_values равномерное распределение\n"
     ]
    }
   ],
   "source": [
    "stat, p_value = kstest(pvalues, uniform(loc=0.0, scale=1.0).cdf)\n",
    "\n",
    "if p_value < 0.05:\n",
    "    print(f'p_value = {p_value} - p_values неравномерное распределение')\n",
    "else:\n",
    "    print(f'p_value = {p_value} - p_values равномерное распределение')"
   ]
  },
  {
   "cell_type": "code",
   "execution_count": 164,
   "metadata": {},
   "outputs": [
    {
     "data": {
      "image/png": "[encoded data removed]",
      "text/plain": [
       "<Figure size 600x400 with 1 Axes>"
      ]
     },
     "metadata": {},
     "output_type": "display_data"
    }
   ],
   "source": [
    "plot_pvalues_hist(pvalues)"
   ]
  },
  {
   "cell_type": "markdown",
   "metadata": {},
   "source": [
    "##### A/B-тест"
   ]
  },
  {
   "cell_type": "code",
   "execution_count": 165,
   "metadata": {},
   "outputs": [
    {
     "name": "stderr",
     "output_type": "stream",
     "text": [
      "100%|██████████| 1000/1000 [01:09<00:00, 14.32it/s]"
     ]
    },
    {
     "name": "stdout",
     "output_type": "stream",
     "text": [
      "Мощность (эффект 1%) = 0.283\n",
      "Мощность (эффект 3%) = 0.978\n",
      "Мощность (эффект 5%) = 1.0\n"
     ]
    },
    {
     "name": "stderr",
     "output_type": "stream",
     "text": [
      "\n"
     ]
    }
   ],
   "source": [
    "pvalues_1_eff = []\n",
    "pvalues_3_eff = []\n",
    "pvalues_5_eff = []\n",
    "\n",
    "for i in tqdm(range(1000)):\n",
    "  group_A, group_B = train_test_split(users_total_dur, \n",
    "                                      test_size=0.5, \n",
    "                                      shuffle=True)\n",
    "  group_B['total_dur_1_eff'] = group_B['total_dur'] * (1 + 0.01)\n",
    "  group_B['total_dur_3_eff'] = group_B['total_dur'] * (1 + 0.03)\n",
    "  group_B['total_dur_5_eff'] = group_B['total_dur'] * (1 + 0.05)\n",
    "  \n",
    "  u, p = mannwhitneyu(group_A['total_dur'].values, group_B['total_dur_1_eff'].values)\n",
    "  pvalues_1_eff.append(p)\n",
    "  u, p = mannwhitneyu(group_A['total_dur'].values, group_B['total_dur_3_eff'].values)\n",
    "  pvalues_3_eff.append(p)\n",
    "  u, p = mannwhitneyu(group_A['total_dur'].values, group_B['total_dur_5_eff'].values)\n",
    "  pvalues_5_eff.append(p)\n",
    "\n",
    "pvalues_1_eff = np.array(pvalues_1_eff)\n",
    "pvalues_3_eff = np.array(pvalues_3_eff)\n",
    "pvalues_5_eff = np.array(pvalues_5_eff)\n",
    "\n",
    "print(f\"Мощность (эффект 1%) = {pvalues_1_eff[pvalues_1_eff < 0.05].shape[0] / pvalues_1_eff.shape[0]}\")\n",
    "print(f\"Мощность (эффект 3%) = {pvalues_3_eff[pvalues_3_eff < 0.05].shape[0] / pvalues_3_eff.shape[0]}\")\n",
    "print(f\"Мощность (эффект 5%) = {pvalues_5_eff[pvalues_5_eff < 0.05].shape[0] / pvalues_5_eff.shape[0]}\")"
   ]
  },
  {
   "cell_type": "markdown",
   "metadata": {},
   "source": [
    "**Вывод:**\n",
    "1. A/A тест:\n",
    "\n",
    "   • Корректность (0.946) указывает на то, что тест имеет высокую вероятность правильно идентифицировать отсутствие эффекта, что говорит о хорошей настройке и надежности теста.\n",
    "\n",
    "   • Равномерное распределение p-values свидетельствует о том, что нет систематических ошибок в тестировании.\n",
    "\n",
    "2. A/B тест:\n",
    "\n",
    "   • Мощность 0.283 для 1% эффекта говорит о том, что вероятность обнаружить такой небольшой эффект довольно низка.\n",
    "\n",
    "   • Мощность 0.978 для 3% эффекта и 1.0 для 5% эффекта свидетельствует о том, что более крупные эффекты легко обнаруживаются.\n",
    "\n",
    "**Итог:**\\\n",
    "В общем, тест имеет хорошую способность выявлять значимые различия при более выраженных эффектах (3% и выше), но может не быть достаточно мощным для обнаружения небольших изменений (1%)."
   ]
  },
  {
   "cell_type": "markdown",
   "metadata": {},
   "source": [
    "# Дизайн A/B: лог.TVTu + манна-уитни"
   ]
  },
  {
   "cell_type": "code",
   "execution_count": null,
   "metadata": {},
   "outputs": [],
   "source": [
    "users_total_dur['total_dur_ln'] = np.log2(users_total_dur['total_dur'])"
   ]
  },
  {
   "cell_type": "markdown",
   "metadata": {},
   "source": [
    "##### A/A-тест"
   ]
  },
  {
   "cell_type": "markdown",
   "metadata": {},
   "source": [
    "Корректность:"
   ]
  },
  {
   "cell_type": "code",
   "execution_count": 167,
   "metadata": {},
   "outputs": [
    {
     "name": "stderr",
     "output_type": "stream",
     "text": [
      "100%|██████████| 1000/1000 [00:34<00:00, 29.13it/s]"
     ]
    },
    {
     "name": "stdout",
     "output_type": "stream",
     "text": [
      "Корректность = 0.953\n"
     ]
    },
    {
     "name": "stderr",
     "output_type": "stream",
     "text": [
      "\n"
     ]
    }
   ],
   "source": [
    "pvalues = []\n",
    "for i in tqdm(range(1000)):\n",
    "  group_A, group_B = train_test_split(users_total_dur, \n",
    "                                      test_size=0.5, \n",
    "                                      shuffle=True)\n",
    "  u, p = mannwhitneyu(\n",
    "        group_A['total_dur_ln'].values,\n",
    "        group_B['total_dur_ln'].values\n",
    "    )\n",
    "  pvalues.append(p)\n",
    "\n",
    "pvalues = np.array(pvalues)\n",
    "print(f\"Корректность = {1 - pvalues[pvalues < 0.05].shape[0] / pvalues.shape[0]:.3f}\")"
   ]
  },
  {
   "cell_type": "markdown",
   "metadata": {},
   "source": [
    "Оценка равномерности распределения p-value"
   ]
  },
  {
   "cell_type": "code",
   "execution_count": 168,
   "metadata": {},
   "outputs": [
    {
     "data": {
      "image/png": "[encoded data removed]",
      "text/plain": [
       "<Figure size 600x400 with 1 Axes>"
      ]
     },
     "metadata": {},
     "output_type": "display_data"
    }
   ],
   "source": [
    "plot_pvalues_hist(pvalues)"
   ]
  },
  {
   "cell_type": "code",
   "execution_count": 169,
   "metadata": {},
   "outputs": [
    {
     "name": "stdout",
     "output_type": "stream",
     "text": [
      "p_value = 0.7004107094503211 - p_values равномерное распределение\n"
     ]
    }
   ],
   "source": [
    "stat, p_value = kstest(pvalues, uniform(loc=0.0, scale=1.0).cdf)\n",
    "\n",
    "if p_value < 0.05:\n",
    "    print(f'p_value = {p_value} - p_values неравномерное распределение')\n",
    "else:\n",
    "    print(f'p_value = {p_value} - p_values равномерное распределение')"
   ]
  },
  {
   "cell_type": "markdown",
   "metadata": {},
   "source": [
    "##### A/B-тест"
   ]
  },
  {
   "cell_type": "code",
   "execution_count": 170,
   "metadata": {},
   "outputs": [
    {
     "name": "stderr",
     "output_type": "stream",
     "text": [
      "100%|██████████| 1000/1000 [01:12<00:00, 13.83it/s]"
     ]
    },
    {
     "name": "stdout",
     "output_type": "stream",
     "text": [
      "Мощность (эффект 1%) = 0.277\n",
      "Мощность (эффект 3%) = 0.977\n",
      "Мощность (эффект 5%) = 1.0\n"
     ]
    },
    {
     "name": "stderr",
     "output_type": "stream",
     "text": [
      "\n"
     ]
    }
   ],
   "source": [
    "pvalues_1_eff = []\n",
    "pvalues_3_eff = []\n",
    "pvalues_5_eff = []\n",
    "\n",
    "for i in tqdm(range(1000)):\n",
    "  group_A, group_B = train_test_split(users_total_dur, \n",
    "                                      test_size=0.5, \n",
    "                                      shuffle=True)\n",
    "  group_B['total_dur_ln_1_eff'] = np.log2(group_B['total_dur'] * (1 + 0.01))\n",
    "  group_B['total_dur_ln_3_eff'] = np.log2(group_B['total_dur'] * (1 + 0.03))\n",
    "  group_B['total_dur_ln_5_eff'] = np.log2(group_B['total_dur'] * (1 + 0.05))\n",
    "  \n",
    "  u, p = mannwhitneyu(group_A['total_dur_ln'].values, group_B['total_dur_ln_1_eff'].values)\n",
    "  pvalues_1_eff.append(p)\n",
    "  u, p = mannwhitneyu(group_A['total_dur_ln'].values, group_B['total_dur_ln_3_eff'].values)\n",
    "  pvalues_3_eff.append(p)\n",
    "  u, p = mannwhitneyu(group_A['total_dur_ln'].values, group_B['total_dur_ln_5_eff'].values)\n",
    "  pvalues_5_eff.append(p)\n",
    "\n",
    "pvalues_1_eff = np.array(pvalues_1_eff)\n",
    "pvalues_3_eff = np.array(pvalues_3_eff)\n",
    "pvalues_5_eff = np.array(pvalues_5_eff)\n",
    "\n",
    "print(f\"Мощность (эффект 1%) = {pvalues_1_eff[pvalues_1_eff < 0.05].shape[0] / pvalues_1_eff.shape[0]}\")\n",
    "print(f\"Мощность (эффект 3%) = {pvalues_3_eff[pvalues_3_eff < 0.05].shape[0] / pvalues_3_eff.shape[0]}\")\n",
    "print(f\"Мощность (эффект 5%) = {pvalues_5_eff[pvalues_5_eff < 0.05].shape[0] / pvalues_5_eff.shape[0]}\")"
   ]
  },
  {
   "cell_type": "markdown",
   "metadata": {},
   "source": [
    "**Выводы:**\n",
    "\n",
    "1. A/A тест: \n",
    "    \n",
    "    • Высокая корректность (0.953) и равномерное распределение p-values указывают на то, что тест был проведен корректно, и нет явных искажений в данных.\n",
    "\n",
    "2. A/B тест: Мощность теста показывает, что:\n",
    "\n",
    "   • Для выявления 1% эффекта мощность составляет лишь 0.277, что говорит о низкой вероятности обнаружения такого небольшого эффекта.\n",
    "\n",
    "   • Для 3% эффекта мощность значительно возрастает до 0.977, что означает, что вы с высокой вероятностью сможете обнаружить этот эффект.\n",
    "\n",
    "   • Для 5% эффекта мощность достигает 1.0, что указывает на уверенность в обнаружении этого эффекта.\n",
    "\n",
    "**Итог:**\\\n",
    " A/B тест имеет высокую мощность для обнаружения эффектов размером 3% и более, но низкую мощность для обнаружения малых эффектов (1%). Это может ограничивать способность выявлять незначительные изменения в метриках."
   ]
  },
  {
   "cell_type": "markdown",
   "metadata": {},
   "source": [
    "# Дизайн A/B: TVTu + t-test"
   ]
  },
  {
   "cell_type": "markdown",
   "metadata": {},
   "source": [
    "##### A/A-тест"
   ]
  },
  {
   "cell_type": "markdown",
   "metadata": {},
   "source": [
    "Корректность:"
   ]
  },
  {
   "cell_type": "code",
   "execution_count": 171,
   "metadata": {},
   "outputs": [
    {
     "name": "stderr",
     "output_type": "stream",
     "text": [
      "100%|██████████| 1000/1000 [00:23<00:00, 42.40it/s]"
     ]
    },
    {
     "name": "stdout",
     "output_type": "stream",
     "text": [
      "Корректность = 0.958\n"
     ]
    },
    {
     "name": "stderr",
     "output_type": "stream",
     "text": [
      "\n"
     ]
    }
   ],
   "source": [
    "pvalues = []\n",
    "\n",
    "for i in tqdm(range(1000)):\n",
    "  group_A, group_B = train_test_split(users_total_dur, \n",
    "                                      test_size=0.5, \n",
    "                                      shuffle=True)\n",
    "  p = ttest_ind(group_A['total_dur'].values, \n",
    "                group_B['total_dur'].values, \n",
    "                equal_var=False).pvalue\n",
    "  pvalues.append(p)\n",
    "\n",
    "pvalues = np.array(pvalues)\n",
    "print(f\"Корректность = {1 - pvalues[pvalues < 0.05].shape[0] / pvalues.shape[0]:.3f}\")"
   ]
  },
  {
   "cell_type": "markdown",
   "metadata": {},
   "source": [
    "Оценка равномерности распределения p-value"
   ]
  },
  {
   "cell_type": "code",
   "execution_count": 172,
   "metadata": {},
   "outputs": [
    {
     "data": {
      "image/png": "[encoded data removed]",
      "text/plain": [
       "<Figure size 600x400 with 1 Axes>"
      ]
     },
     "metadata": {},
     "output_type": "display_data"
    }
   ],
   "source": [
    "plot_pvalues_hist(pvalues)"
   ]
  },
  {
   "cell_type": "code",
   "execution_count": 173,
   "metadata": {},
   "outputs": [
    {
     "name": "stdout",
     "output_type": "stream",
     "text": [
      "p_value = 0.8650217151487174 - p_values равномерное распределение\n"
     ]
    }
   ],
   "source": [
    "stat, p_value = kstest(pvalues, uniform(loc=0.0, scale=1.0).cdf)\n",
    "\n",
    "if p_value < 0.05:\n",
    "    print(f'p_value = {p_value} - p_values неравномерное распределение')\n",
    "else:\n",
    "    print(f'p_value = {p_value} - p_values равномерное распределение')"
   ]
  },
  {
   "cell_type": "markdown",
   "metadata": {},
   "source": [
    "##### A/B-тест"
   ]
  },
  {
   "cell_type": "code",
   "execution_count": 174,
   "metadata": {},
   "outputs": [
    {
     "name": "stderr",
     "output_type": "stream",
     "text": [
      "100%|██████████| 1000/1000 [00:28<00:00, 34.66it/s]"
     ]
    },
    {
     "name": "stdout",
     "output_type": "stream",
     "text": [
      "Мощность (эффект 1%) = 0.511\n",
      "Мощность (эффект 3%) = 1.0\n",
      "Мощность (эффект 5%) = 1.0\n"
     ]
    },
    {
     "name": "stderr",
     "output_type": "stream",
     "text": [
      "\n"
     ]
    }
   ],
   "source": [
    "pvalues_1_eff = []\n",
    "pvalues_3_eff = []\n",
    "pvalues_5_eff = []\n",
    "\n",
    "for i in tqdm(range(1000)):\n",
    "  group_A, group_B = train_test_split(users_total_dur, \n",
    "                                      test_size=0.5, \n",
    "                                      shuffle=True)\n",
    "  group_B['total_dur_1_eff'] = group_B['total_dur'] * (1 + 0.01)\n",
    "  group_B['total_dur_3_eff'] = group_B['total_dur'] * (1 + 0.03)\n",
    "  group_B['total_dur_5_eff'] = group_B['total_dur'] * (1 + 0.05)\n",
    "  \n",
    "  stat, p = ttest_ind(group_A['total_dur'].values, \n",
    "                          group_B['total_dur_1_eff'].values, \n",
    "                          equal_var=False)\n",
    "  pvalues_1_eff.append(p)\n",
    "  stat, p = ttest_ind(group_A['total_dur'].values, \n",
    "                          group_B['total_dur_3_eff'].values, \n",
    "                          equal_var=False)\n",
    "  pvalues_3_eff.append(p)\n",
    "  stat, p = ttest_ind(group_A['total_dur'].values, \n",
    "                          group_B['total_dur_5_eff'].values, \n",
    "                          equal_var=False)\n",
    "  pvalues_5_eff.append(p)\n",
    "\n",
    "pvalues_1_eff = np.array(pvalues_1_eff)\n",
    "pvalues_3_eff = np.array(pvalues_3_eff)\n",
    "pvalues_5_eff = np.array(pvalues_5_eff)\n",
    "\n",
    "print(f\"Мощность (эффект 1%) = {pvalues_1_eff[pvalues_1_eff < 0.05].shape[0] / pvalues_1_eff.shape[0]}\")\n",
    "print(f\"Мощность (эффект 3%) = {pvalues_3_eff[pvalues_3_eff < 0.05].shape[0] / pvalues_3_eff.shape[0]}\")\n",
    "print(f\"Мощность (эффект 5%) = {pvalues_5_eff[pvalues_5_eff < 0.05].shape[0] / pvalues_5_eff.shape[0]}\")"
   ]
  },
  {
   "cell_type": "markdown",
   "metadata": {},
   "source": [
    "**Выводы:**\n",
    "\n",
    "1. A/A тест:\n",
    "\n",
    "   • Корректность 0.958 указывает на то, что тест работает корректно, и вероятность ложноположительных результатов низка.\n",
    "\n",
    "   • Равномерное распределение p-values говорит о том, что нет систематических смещений в данных.\n",
    "\n",
    "2. A/B тест:\n",
    "\n",
    "   • Мощность 0.511 при 1% эффекта указывает на то, что вероятность обнаружить такой небольшой эффект достаточно низка. Это означает, что тест может не быть чувствительным к небольшим изменениям.\n",
    "\n",
    "   • Мощность 1.0 при 3% и 5% эффекта показывает, что тест способен надежно обнаруживать более значительные изменения.\n",
    "\n",
    "**Итог:**\\\n",
    "A/B тест имеет хорошую мощность для обнаружения эффектов в 3% и 5%, но недостаточную мощность для выявления небольших изменений в 1%. Это может указывать на необходимость увеличения размера выборки или пересмотра дизайна эксперимента для более чувствительного обнаружения малых эффектов."
   ]
  },
  {
   "cell_type": "markdown",
   "metadata": {},
   "source": [
    "# Дизайн A/B: лог.TVTu + t-test"
   ]
  },
  {
   "cell_type": "code",
   "execution_count": 175,
   "metadata": {},
   "outputs": [],
   "source": [
    "users_total_dur['total_dur_ln'] = np.log2(users_total_dur['total_dur'])"
   ]
  },
  {
   "cell_type": "markdown",
   "metadata": {},
   "source": [
    "##### A/A-тест"
   ]
  },
  {
   "cell_type": "markdown",
   "metadata": {},
   "source": [
    "Корректность:"
   ]
  },
  {
   "cell_type": "code",
   "execution_count": 176,
   "metadata": {},
   "outputs": [
    {
     "name": "stderr",
     "output_type": "stream",
     "text": [
      "100%|██████████| 1000/1000 [00:23<00:00, 42.64it/s]"
     ]
    },
    {
     "name": "stdout",
     "output_type": "stream",
     "text": [
      "Корректность = 0.954\n"
     ]
    },
    {
     "name": "stderr",
     "output_type": "stream",
     "text": [
      "\n"
     ]
    }
   ],
   "source": [
    "pvalues = []\n",
    "\n",
    "for i in tqdm(range(1000)):\n",
    "  group_A, group_B = train_test_split(users_total_dur, \n",
    "                                      test_size=0.5, \n",
    "                                      shuffle=True)\n",
    "  p = ttest_ind(group_A['total_dur_ln'].values, \n",
    "                group_B['total_dur_ln'].values, \n",
    "                equal_var=False).pvalue\n",
    "  pvalues.append(p)\n",
    "\n",
    "pvalues = np.array(pvalues)\n",
    "print(f\"Корректность = {1 - pvalues[pvalues < 0.05].shape[0] / pvalues.shape[0]:.3f}\")"
   ]
  },
  {
   "cell_type": "markdown",
   "metadata": {},
   "source": [
    "Оценка равномерности распределения p-value"
   ]
  },
  {
   "cell_type": "code",
   "execution_count": 177,
   "metadata": {},
   "outputs": [
    {
     "data": {
      "image/png": "[encoded data removed]",
      "text/plain": [
       "<Figure size 600x400 with 1 Axes>"
      ]
     },
     "metadata": {},
     "output_type": "display_data"
    }
   ],
   "source": [
    "plot_pvalues_hist(pvalues)"
   ]
  },
  {
   "cell_type": "code",
   "execution_count": 178,
   "metadata": {},
   "outputs": [
    {
     "name": "stdout",
     "output_type": "stream",
     "text": [
      "p_value = 0.5996735804955592 - p_values равномерное распределение\n"
     ]
    }
   ],
   "source": [
    "stat, p_value = kstest(pvalues, uniform(loc=0.0, scale=1.0).cdf)\n",
    "\n",
    "if p_value < 0.05:\n",
    "    print(f'p_value = {p_value} - p_values неравномерное распределение')\n",
    "else:\n",
    "    print(f'p_value = {p_value} - p_values равномерное распределение')"
   ]
  },
  {
   "cell_type": "markdown",
   "metadata": {},
   "source": [
    "##### A/B-тест"
   ]
  },
  {
   "cell_type": "code",
   "execution_count": 179,
   "metadata": {},
   "outputs": [
    {
     "name": "stderr",
     "output_type": "stream",
     "text": [
      "100%|██████████| 1000/1000 [00:29<00:00, 33.72it/s]"
     ]
    },
    {
     "name": "stdout",
     "output_type": "stream",
     "text": [
      "Мощность (эффект 1%) = 0.174\n",
      "Мощность (эффект 3%) = 0.873\n",
      "Мощность (эффект 5%) = 1.0\n"
     ]
    },
    {
     "name": "stderr",
     "output_type": "stream",
     "text": [
      "\n"
     ]
    }
   ],
   "source": [
    "pvalues_1_eff = []\n",
    "pvalues_3_eff = []\n",
    "pvalues_5_eff = []\n",
    "\n",
    "for i in tqdm(range(1000)):\n",
    "  group_A, group_B = train_test_split(users_total_dur, \n",
    "                                      test_size=0.5, \n",
    "                                      shuffle=True)\n",
    "  group_B['total_dur_ln_1_eff'] = np.log2(group_B['total_dur'] * (1 + 0.01))\n",
    "  group_B['total_dur_ln_3_eff'] = np.log2(group_B['total_dur'] * (1 + 0.03))\n",
    "  group_B['total_dur_ln_5_eff'] = np.log2(group_B['total_dur'] * (1 + 0.05))\n",
    "  \n",
    "  stat, p = ttest_ind(group_A['total_dur_ln'].values, \n",
    "                group_B['total_dur_ln_1_eff'].values, \n",
    "                equal_var=False)\n",
    "  pvalues_1_eff.append(p)\n",
    "  stat, p = ttest_ind(group_A['total_dur_ln'].values, \n",
    "                group_B['total_dur_ln_3_eff'].values, \n",
    "                equal_var=False)\n",
    "  pvalues_3_eff.append(p)\n",
    "  stat, p = ttest_ind(group_A['total_dur_ln'].values, \n",
    "                group_B['total_dur_ln_5_eff'].values, \n",
    "                equal_var=False)\n",
    "  pvalues_5_eff.append(p)\n",
    "\n",
    "pvalues_1_eff = np.array(pvalues_1_eff)\n",
    "pvalues_3_eff = np.array(pvalues_3_eff)\n",
    "pvalues_5_eff = np.array(pvalues_5_eff)\n",
    "\n",
    "print(f\"Мощность (эффект 1%) = {pvalues_1_eff[pvalues_1_eff < 0.05].shape[0] / pvalues_1_eff.shape[0]}\")\n",
    "print(f\"Мощность (эффект 3%) = {pvalues_3_eff[pvalues_3_eff < 0.05].shape[0] / pvalues_3_eff.shape[0]}\")\n",
    "print(f\"Мощность (эффект 5%) = {pvalues_5_eff[pvalues_5_eff < 0.05].shape[0] / pvalues_5_eff.shape[0]}\")"
   ]
  },
  {
   "cell_type": "markdown",
   "metadata": {},
   "source": [
    "Ваши результаты A/B тестирования показывают следующее:\n",
    "\n",
    "1. A/A тест: \n",
    "\n",
    "   • Высокая корректность (0.954) и равномерное распределение p-values указывают на то, что тест был проведен корректно и не содержит систематических ошибок.\n",
    "\n",
    "2. A/B тест:\n",
    "\n",
    "   • Мощность для 1% эффекта (0.174) значительно ниже, что говорит о том, что тест имеет низкую вероятность обнаружить такой малый эффект.\n",
    "\n",
    "   • Мощность для 3% эффекта (0.873) уже выше, но все еще не идеальна, что может быть проблемой, если необходимо обнаружить небольшие изменения.\n",
    "\n",
    "   • Мощность для 5% эффекта (1.0) указывает на то, что тест способен надежно обнаруживать такие изменения.\n",
    "\n",
    "Вывод: \\\n",
    "Использование t-test без логарифмирования метрики обеспечивает более высокую мощность для обнаружения малых эффектов, что делает его предпочтительным выбором для A/B тестирования."
   ]
  },
  {
   "cell_type": "markdown",
   "metadata": {},
   "source": [
    "# A/B-тест"
   ]
  },
  {
   "cell_type": "markdown",
   "metadata": {},
   "source": [
    "Результаты экспериментов показали незначительную разницу корректности (все >0.9) и мощности (все отлавливают эффект 3% и 5%) между тестами.\n",
    "\n",
    "Выбор подходящего метода для A/B-тестирования зависит от характеристик данных и целей анализа. Поскольку данные распределены ненормально и напоминают экспоненциальное распределение, это важно учитывать при выборе статистического теста. \n",
    "\n",
    "С учетом ненормального распределения данных, лучшими вариантами будут:\n",
    "\n",
    "• Бутстреп (TVTu или логарифмированная TVTu)\n",
    "\n",
    "• Манна-Уитни (TVTu или логарифмированная TVTu)\n",
    "\n",
    "Чтобы улучшить нормальность данных, можно использовать логарифмирование и затем применять бутстреп или Манна-Уитни.\n",
    "\n",
    "Пара TVTu + бутстреп показал лучше результаты, чем остальные, поэтому выбор был сделан в пользу пары TVTu + бутстреп."
   ]
  },
  {
   "cell_type": "code",
   "execution_count": 115,
   "metadata": {},
   "outputs": [
    {
     "name": "stderr",
     "output_type": "stream",
     "text": [
      "C:\\Users\\kshch\\AppData\\Local\\Temp\\ipykernel_37216\\405984320.py:2: FutureWarning: ChainedAssignmentError: behaviour will change in pandas 3.0!\n",
      "You are setting values through chained assignment. Currently this works in certain cases, but when using Copy-on-Write (which will become the default behaviour in pandas 3.0) this will never work to update the original DataFrame or Series, because the intermediate object on which we are setting values will behave as a copy.\n",
      "A typical example is when you are setting values in a column of a DataFrame, like:\n",
      "\n",
      "df[\"col\"][row_indexer] = value\n",
      "\n",
      "Use `df.loc[row_indexer, \"col\"] = values` instead, to perform the assignment in a single step and ensure this keeps updating the original `df`.\n",
      "\n",
      "See the caveats in the documentation: https://pandas.pydata.org/pandas-docs/stable/user_guide/indexing.html#returning-a-view-versus-a-copy\n",
      "\n",
      "  users_total_dur['total_dur'][users_total_dur['total_dur'] < 500] = 0\n"
     ]
    }
   ],
   "source": [
    "# Занулите для всех пользователей total_dur, у которых total_dur < 500\n",
    "users_total_dur['total_dur'][users_total_dur['total_dur'] < 500] = 0"
   ]
  },
  {
   "cell_type": "code",
   "execution_count": 116,
   "metadata": {},
   "outputs": [
    {
     "data": {
      "text/html": [
       "<div>\n",
       "<style scoped>\n",
       "    .dataframe tbody tr th:only-of-type {\n",
       "        vertical-align: middle;\n",
       "    }\n",
       "\n",
       "    .dataframe tbody tr th {\n",
       "        vertical-align: top;\n",
       "    }\n",
       "\n",
       "    .dataframe thead th {\n",
       "        text-align: right;\n",
       "    }\n",
       "</style>\n",
       "<table border=\"1\" class=\"dataframe\">\n",
       "  <thead>\n",
       "    <tr style=\"text-align: right;\">\n",
       "      <th></th>\n",
       "      <th>user_id</th>\n",
       "      <th>total_dur</th>\n",
       "    </tr>\n",
       "  </thead>\n",
       "  <tbody>\n",
       "    <tr>\n",
       "      <th>0</th>\n",
       "      <td>1</td>\n",
       "      <td>21172</td>\n",
       "    </tr>\n",
       "    <tr>\n",
       "      <th>1</th>\n",
       "      <td>1000</td>\n",
       "      <td>10744</td>\n",
       "    </tr>\n",
       "    <tr>\n",
       "      <th>2</th>\n",
       "      <td>1000000</td>\n",
       "      <td>32990</td>\n",
       "    </tr>\n",
       "    <tr>\n",
       "      <th>3</th>\n",
       "      <td>1000001</td>\n",
       "      <td>0</td>\n",
       "    </tr>\n",
       "    <tr>\n",
       "      <th>4</th>\n",
       "      <td>1000003</td>\n",
       "      <td>625</td>\n",
       "    </tr>\n",
       "    <tr>\n",
       "      <th>...</th>\n",
       "      <td>...</td>\n",
       "      <td>...</td>\n",
       "    </tr>\n",
       "    <tr>\n",
       "      <th>266076</th>\n",
       "      <td>999978</td>\n",
       "      <td>11172</td>\n",
       "    </tr>\n",
       "    <tr>\n",
       "      <th>266077</th>\n",
       "      <td>999987</td>\n",
       "      <td>27888</td>\n",
       "    </tr>\n",
       "    <tr>\n",
       "      <th>266078</th>\n",
       "      <td>999989</td>\n",
       "      <td>4563</td>\n",
       "    </tr>\n",
       "    <tr>\n",
       "      <th>266079</th>\n",
       "      <td>999990</td>\n",
       "      <td>997</td>\n",
       "    </tr>\n",
       "    <tr>\n",
       "      <th>266080</th>\n",
       "      <td>999993</td>\n",
       "      <td>17228</td>\n",
       "    </tr>\n",
       "  </tbody>\n",
       "</table>\n",
       "<p>237706 rows × 2 columns</p>\n",
       "</div>"
      ],
      "text/plain": [
       "        user_id  total_dur\n",
       "0             1      21172\n",
       "1          1000      10744\n",
       "2       1000000      32990\n",
       "3       1000001          0\n",
       "4       1000003        625\n",
       "...         ...        ...\n",
       "266076   999978      11172\n",
       "266077   999987      27888\n",
       "266078   999989       4563\n",
       "266079   999990        997\n",
       "266080   999993      17228\n",
       "\n",
       "[237706 rows x 2 columns]"
      ]
     },
     "execution_count": 116,
     "metadata": {},
     "output_type": "execute_result"
    }
   ],
   "source": [
    "users_total_dur"
   ]
  },
  {
   "cell_type": "code",
   "execution_count": 117,
   "metadata": {},
   "outputs": [
    {
     "data": {
      "text/html": [
       "<div>\n",
       "<style scoped>\n",
       "    .dataframe tbody tr th:only-of-type {\n",
       "        vertical-align: middle;\n",
       "    }\n",
       "\n",
       "    .dataframe tbody tr th {\n",
       "        vertical-align: top;\n",
       "    }\n",
       "\n",
       "    .dataframe thead th {\n",
       "        text-align: right;\n",
       "    }\n",
       "</style>\n",
       "<table border=\"1\" class=\"dataframe\">\n",
       "  <thead>\n",
       "    <tr style=\"text-align: right;\">\n",
       "      <th></th>\n",
       "      <th>group</th>\n",
       "      <th>user_id</th>\n",
       "      <th>total_dur</th>\n",
       "    </tr>\n",
       "  </thead>\n",
       "  <tbody>\n",
       "    <tr>\n",
       "      <th>0</th>\n",
       "      <td>A</td>\n",
       "      <td>119355</td>\n",
       "      <td>119355</td>\n",
       "    </tr>\n",
       "    <tr>\n",
       "      <th>1</th>\n",
       "      <td>B</td>\n",
       "      <td>118351</td>\n",
       "      <td>118351</td>\n",
       "    </tr>\n",
       "  </tbody>\n",
       "</table>\n",
       "</div>"
      ],
      "text/plain": [
       "  group  user_id  total_dur\n",
       "0     A   119355     119355\n",
       "1     B   118351     118351"
      ]
     },
     "execution_count": 117,
     "metadata": {},
     "output_type": "execute_result"
    }
   ],
   "source": [
    "# Разбейте их самостоятельно на две равные группы\n",
    "users_total_dur_group = groups_splitter(users_total_dur, \n",
    "                                        columns=['user_id', 'total_dur', 'group'],\n",
    "                                        user_salt='kiontestmodel20210805')\n",
    "users_total_dur_group.groupby(by='group', as_index=False).count()"
   ]
  },
  {
   "cell_type": "code",
   "execution_count": 118,
   "metadata": {},
   "outputs": [],
   "source": [
    "group_A = users_total_dur_group[users_total_dur_group.group == 'A']\n",
    "group_B = users_total_dur_group[users_total_dur_group.group == 'B']"
   ]
  },
  {
   "cell_type": "markdown",
   "metadata": {},
   "source": [
    "Примем за самых смотрящих пользователей тех, у кого `total_dur > 10 000`"
   ]
  },
  {
   "cell_type": "code",
   "execution_count": 120,
   "metadata": {},
   "outputs": [
    {
     "data": {
      "text/plain": [
       "<Axes: >"
      ]
     },
     "execution_count": 120,
     "metadata": {},
     "output_type": "execute_result"
    },
    {
     "data": {
      "image/png": "[encoded data removed]",
      "text/plain": [
       "<Figure size 640x480 with 1 Axes>"
      ]
     },
     "metadata": {},
     "output_type": "display_data"
    }
   ],
   "source": [
    "group_B['total_dur'].hist()"
   ]
  },
  {
   "cell_type": "code",
   "execution_count": 121,
   "metadata": {},
   "outputs": [],
   "source": [
    "# докидываем эффект 2.5% на 10% самых смотрящих пользователей\n",
    "index = group_B[group_B['total_dur'] > 10000].sample(frac=0.1).index\n",
    "group_B.loc[index]['total_dur'] = group_B.loc[index]['total_dur'] * (1 + 0.025)"
   ]
  },
  {
   "cell_type": "code",
   "execution_count": 122,
   "metadata": {},
   "outputs": [
    {
     "name": "stdout",
     "output_type": "stream",
     "text": [
      "Эффект не отловлен\n"
     ]
    }
   ],
   "source": [
    "# A/B-тест\n",
    "\n",
    "sample_a_mean = calc_bootstrap_mean(group_A['total_dur'], size=1000)\n",
    "sample_b_mean = calc_bootstrap_mean(group_B['total_dur'], size=1000)\n",
    "\n",
    "left_side, right_side = np.percentile(sample_a_mean - sample_b_mean,\n",
    "                                        [100 * 0.05 / 2., 100 * (1 - 0.05 / 2.)]) # считаем 95% доверительный интервал для разницы средних\n",
    "\n",
    "if left_side <= 0 <= right_side:\n",
    "    print(f'Эффект не отловлен')\n",
    "else:\n",
    "    print(f'Эффект отловлен')"
   ]
  },
  {
   "cell_type": "markdown",
   "metadata": {},
   "source": [
    "**Выводы:**\\\n",
    "Поскольку доверительный интервал включает отрицательные значения, это указывает на то, что разница в результатах может быть статистически незначимой. Следовательно, нельзя однозначно утверждать, что модель в группе В лучше, чем в группе А, и требуется дополнительный анализ для более точных выводов."
   ]
  },
  {
   "cell_type": "markdown",
   "metadata": {},
   "source": []
  }
 ],
 "metadata": {
  "kernelspec": {
   "display_name": ".venv",
   "language": "python",
   "name": "python3"
  },
  "language_info": {
   "codemirror_mode": {
    "name": "ipython",
    "version": 3
   },
   "file_extension": ".py",
   "mimetype": "text/x-python",
   "name": "python",
   "nbconvert_exporter": "python",
   "pygments_lexer": "ipython3",
   "version": "3.10.10"
  }
 },
 "nbformat": 4,
 "nbformat_minor": 2
}
